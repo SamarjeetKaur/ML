{
  "nbformat": 4,
  "nbformat_minor": 0,
  "metadata": {
    "colab": {
      "name": "ML Numpy WS 2 Notebook",
      "version": "0.3.2",
      "provenance": [],
      "include_colab_link": true
    },
    "kernelspec": {
      "name": "python3",
      "display_name": "Python 3"
    }
  },
  "cells": [
    {
      "cell_type": "markdown",
      "metadata": {
        "id": "view-in-github",
        "colab_type": "text"
      },
      "source": [
        "<a href=\"https://colab.research.google.com/github/SamarjeetKaur/ML/blob/master/ML_Numpy_WS_2_Notebook.ipynb\" target=\"_parent\"><img src=\"https://colab.research.google.com/assets/colab-badge.svg\" alt=\"Open In Colab\"/></a>"
      ]
    },
    {
      "cell_type": "markdown",
      "metadata": {
        "id": "Pvu6WiXOvg6W",
        "colab_type": "text"
      },
      "source": [
        "#Numpy\n",
        "###NumPy, which stands for Numerical Python, is a library consisting of multidimensional array objects and a collection of routines for processing those arrays. Using NumPy, mathematical and logical operations on arrays can be performed. "
      ]
    },
    {
      "cell_type": "markdown",
      "metadata": {
        "id": "9jyfuJFevyea",
        "colab_type": "text"
      },
      "source": [
        "#Operations using NumPy\n",
        "###Mathematical and logical operations on arrays.\n",
        "\n",
        "###Fourier transforms and routines for shape manipulation.\n",
        "\n",
        "###Operations related to linear algebra. NumPy has in-built functions for linear algebra and random number generation."
      ]
    },
    {
      "cell_type": "markdown",
      "metadata": {
        "id": "Pp3-A1_KwPH6",
        "colab_type": "text"
      },
      "source": [
        "#NumPy – A Replacement for MatLab\n",
        "###NumPy is often used along with packages like SciPy (Scientific Python) and Mat−plotlib (plotting library). This combination is widely used as a replacement for MatLab, a popular platform for technical computing.\n"
      ]
    },
    {
      "cell_type": "markdown",
      "metadata": {
        "id": "He3vf3Z6Nv9B",
        "colab_type": "text"
      },
      "source": [
        "###Numpy is the most basic and a powerful package for working with data in python.\n",
        "\n",
        "###If you are going to work on data analysis or machine learning projects, then having a solid understanding of numpy is nearly mandatory.\n",
        "\n",
        "###Because other packages for data analysis (like pandas) is built on top of numpy and the scikit-learn package which is used to build machine learning applications works heavily with numpy as well.\n",
        "\n",
        "###So what does numpy provide?\n",
        "\n",
        "###At the core, numpy provides the excellent ndarray objects, short for n-dimensional arrays.\n",
        "\n",
        "###In a ‘ndarray’ object, aka ‘array’, you can store multiple items of the same data type. It is the facilities around the array object that makes numpy so convenient for performing math and data manipulations."
      ]
    },
    {
      "cell_type": "markdown",
      "metadata": {
        "id": "BqixGhEkPEAi",
        "colab_type": "text"
      },
      "source": [
        "###You might wonder, ‘I can store numbers and other objects in a python list itself and do all sorts of computations and manipulations through list comprehensions, for-loops etc. What do I need a numpy array for?’\n",
        "\n",
        "###Well, there are very significant advantages of using numpy arrays overs lists."
      ]
    },
    {
      "cell_type": "code",
      "metadata": {
        "id": "xMXZNsoSvVJS",
        "colab_type": "code",
        "outputId": "7322d4e6-a60e-4aaf-9de7-485aaf523dc3",
        "colab": {
          "base_uri": "https://localhost:8080/",
          "height": 51
        }
      },
      "source": [
        "#First numpy array\n",
        "# Create an 1d array from a list\n",
        "import numpy as np\n",
        "list1 = [0,1,2,3,4]\n",
        "arr1d = np.array(list1)\n",
        "\n",
        "# Print the array and its type\n",
        "print(type(arr1d))\n",
        "arr1d\n",
        "\n",
        "#> class 'numpy.ndarray'\n",
        "#> array([0, 1, 2, 3, 4])"
      ],
      "execution_count": 4,
      "outputs": [
        {
          "output_type": "stream",
          "text": [
            "<class 'numpy.ndarray'>\n"
          ],
          "name": "stdout"
        },
        {
          "output_type": "execute_result",
          "data": {
            "text/plain": [
              "array([0, 1, 2, 3, 4])"
            ]
          },
          "metadata": {
            "tags": []
          },
          "execution_count": 4
        }
      ]
    },
    {
      "cell_type": "markdown",
      "metadata": {
        "id": "s6TtSqx5WWZx",
        "colab_type": "text"
      },
      "source": [
        "###The key difference between an array and a list is, arrays are designed to handle vectorized operations while a python list is not.\n",
        "\n",
        "###That means, if you apply a function it is performed on every item in the array, rather than on the whole array object.\n",
        "\n",
        "###Let’s suppose you want to add the number 2 to every item in the list. The intuitive way to do it is something like this:"
      ]
    },
    {
      "cell_type": "code",
      "metadata": {
        "id": "Mb63cAxUVvup",
        "colab_type": "code",
        "colab": {}
      },
      "source": [
        "#list1 + 2"
      ],
      "execution_count": 0,
      "outputs": []
    },
    {
      "cell_type": "code",
      "metadata": {
        "id": "IDG5xtT6Wqq8",
        "colab_type": "code",
        "colab": {
          "base_uri": "https://localhost:8080/",
          "height": 34
        },
        "outputId": "4e76dbeb-9781-4713-9a80-daea8b628943"
      },
      "source": [
        "print(arr1d+2)"
      ],
      "execution_count": 6,
      "outputs": [
        {
          "output_type": "stream",
          "text": [
            "[2 3 4 5 6]\n"
          ],
          "name": "stdout"
        }
      ]
    },
    {
      "cell_type": "markdown",
      "metadata": {
        "id": "vs-si8tZXwrf",
        "colab_type": "text"
      },
      "source": [
        "#Another characteristic is that, once a numpy array is created, you cannot increase its size. To do so, you will have to create a new array. But such a behavior of extending the size is natural in a list.\n",
        "\n",
        "#Nevertheless, there are so many more advantages. Let’s find out.\n",
        "\n",
        "#So, that’s about 1d array. You can also pass a list of lists to create a matrix like a 2d array."
      ]
    },
    {
      "cell_type": "code",
      "metadata": {
        "id": "pjVjLo5s7GtC",
        "colab_type": "code",
        "outputId": "7061cf5f-4b35-4c11-ab75-8ba055daf5c6",
        "colab": {
          "base_uri": "https://localhost:8080/",
          "height": 68
        }
      },
      "source": [
        "# Create a 2d array from a list of lists\n",
        "list2 = [[0,1,2], [3,4,5], [6,7,8]]\n",
        "arr2d = np.array(list2)\n",
        "arr2d"
      ],
      "execution_count": 7,
      "outputs": [
        {
          "output_type": "execute_result",
          "data": {
            "text/plain": [
              "array([[0, 1, 2],\n",
              "       [3, 4, 5],\n",
              "       [6, 7, 8]])"
            ]
          },
          "metadata": {
            "tags": []
          },
          "execution_count": 7
        }
      ]
    },
    {
      "cell_type": "markdown",
      "metadata": {
        "id": "m8GG5j4u8VPl",
        "colab_type": "text"
      },
      "source": [
        "#You may also specify the datatype by setting the dtype argument. Some of the most commonly used numpy dtypes are: 'float', 'int', 'bool', 'str' and 'object'.\n",
        "\n",
        "#To control the memory allocations you may choose to use one of ‘float32’, ‘float64’, ‘int8’, ‘int16’ or ‘int32’."
      ]
    },
    {
      "cell_type": "code",
      "metadata": {
        "id": "pseAZugw8Yer",
        "colab_type": "code",
        "outputId": "93b0d08c-a3df-4628-d738-d7e82a5eb239",
        "colab": {
          "base_uri": "https://localhost:8080/",
          "height": 68
        }
      },
      "source": [
        "# Create a float 2d array\n",
        "list2 = [[0,1,2], [3,4,5], [6,7,8]]\n",
        "arr2d_f = np.array(list2, dtype='float')\n",
        "arr2d_f\n"
      ],
      "execution_count": 8,
      "outputs": [
        {
          "output_type": "execute_result",
          "data": {
            "text/plain": [
              "array([[0., 1., 2.],\n",
              "       [3., 4., 5.],\n",
              "       [6., 7., 8.]])"
            ]
          },
          "metadata": {
            "tags": []
          },
          "execution_count": 8
        }
      ]
    },
    {
      "cell_type": "markdown",
      "metadata": {
        "id": "nIe7HMG48hoY",
        "colab_type": "text"
      },
      "source": [
        "#The decimal point after each number is indicative of the float datatype. You can also convert it to a different datatype using the astype method."
      ]
    },
    {
      "cell_type": "code",
      "metadata": {
        "id": "6--Jk7tQ8Tte",
        "colab_type": "code",
        "outputId": "d8691c41-4240-4de1-af21-453b9f7fa2c2",
        "colab": {
          "base_uri": "https://localhost:8080/",
          "height": 68
        }
      },
      "source": [
        "# Convert to 'int' datatype\n",
        "arr2d_f.astype('int')\n",
        "\n"
      ],
      "execution_count": 9,
      "outputs": [
        {
          "output_type": "execute_result",
          "data": {
            "text/plain": [
              "array([[0, 1, 2],\n",
              "       [3, 4, 5],\n",
              "       [6, 7, 8]])"
            ]
          },
          "metadata": {
            "tags": []
          },
          "execution_count": 9
        }
      ]
    },
    {
      "cell_type": "code",
      "metadata": {
        "id": "r4qNc1Yb83t7",
        "colab_type": "code",
        "outputId": "7bd21eec-b8ea-4dd0-8d5e-c5b93eeb1ee2",
        "colab": {
          "base_uri": "https://localhost:8080/",
          "height": 68
        }
      },
      "source": [
        "# Convert to int then to str datatype\n",
        "arr2d_f.astype('int').astype('str')"
      ],
      "execution_count": 10,
      "outputs": [
        {
          "output_type": "execute_result",
          "data": {
            "text/plain": [
              "array([['0', '1', '2'],\n",
              "       ['3', '4', '5'],\n",
              "       ['6', '7', '8']], dtype='<U21')"
            ]
          },
          "metadata": {
            "tags": []
          },
          "execution_count": 10
        }
      ]
    },
    {
      "cell_type": "markdown",
      "metadata": {
        "id": "SLGdGyWp9F9r",
        "colab_type": "text"
      },
      "source": [
        "#A numpy array must have all items to be of the same data type, unlike lists. This is another significant difference.\n",
        "\n",
        "#However, if you are uncertain about what datatype your array will hold or if you want to hold characters and numbers in the same array, you can set the dtype as 'object'.\n",
        "\n"
      ]
    },
    {
      "cell_type": "code",
      "metadata": {
        "id": "7UtOVgNF9LMj",
        "colab_type": "code",
        "outputId": "5433a5b2-7625-4374-8eee-75de55945b25",
        "colab": {
          "base_uri": "https://localhost:8080/",
          "height": 34
        }
      },
      "source": [
        "#Example bool\n",
        "# Create a boolean array\n",
        "arr2d_b = np.array([1, 0, 10], dtype='bool')\n",
        "arr2d_b\n"
      ],
      "execution_count": 11,
      "outputs": [
        {
          "output_type": "execute_result",
          "data": {
            "text/plain": [
              "array([ True, False,  True])"
            ]
          },
          "metadata": {
            "tags": []
          },
          "execution_count": 11
        }
      ]
    },
    {
      "cell_type": "code",
      "metadata": {
        "id": "O4M12dcO9TEa",
        "colab_type": "code",
        "outputId": "34ab2096-0e97-464d-e562-1e4b17decf8a",
        "colab": {
          "base_uri": "https://localhost:8080/",
          "height": 34
        }
      },
      "source": [
        "#Example object type\n",
        "\n",
        "# Create an object array to hold numbers as well as strings\n",
        "arr1d_obj = np.array([1, 'a', 2.3], dtype='object')\n",
        "arr1d_obj"
      ],
      "execution_count": 12,
      "outputs": [
        {
          "output_type": "execute_result",
          "data": {
            "text/plain": [
              "array([1, 'a', 2.3], dtype=object)"
            ]
          },
          "metadata": {
            "tags": []
          },
          "execution_count": 12
        }
      ]
    },
    {
      "cell_type": "markdown",
      "metadata": {
        "id": "knNSwMC_9eJ5",
        "colab_type": "text"
      },
      "source": [
        "#Finally, you can always convert an array back to a python list using tolist().\n",
        "\n"
      ]
    },
    {
      "cell_type": "code",
      "metadata": {
        "id": "t2XvvQUT91cp",
        "colab_type": "code",
        "outputId": "aa1d7f7e-a086-440f-bcb3-d41a889e74c6",
        "colab": {
          "base_uri": "https://localhost:8080/",
          "height": 34
        }
      },
      "source": [
        "# Convert an array back to a list\n",
        "arr1d_obj.tolist()"
      ],
      "execution_count": 13,
      "outputs": [
        {
          "output_type": "execute_result",
          "data": {
            "text/plain": [
              "[1, 'a', 2.3]"
            ]
          },
          "metadata": {
            "tags": []
          },
          "execution_count": 13
        }
      ]
    },
    {
      "cell_type": "markdown",
      "metadata": {
        "id": "En5qby1g-Dvq",
        "colab_type": "text"
      },
      "source": [
        "#To summarise, the main differences with python lists are:\n",
        "\n",
        "#Arrays support vectorised operations, while lists don’t.\n",
        "#Once an array is created, you cannot change its size. You will have to create a new array or overwrite the existing one.\n",
        "#Every array has one and only one dtype. All items in it should be of that dtype.\n",
        "#An equivalent numpy array occupies much less space than a python list of lists."
      ]
    },
    {
      "cell_type": "markdown",
      "metadata": {
        "id": "XgWJx9lV-Qus",
        "colab_type": "text"
      },
      "source": [
        "#Inspecting the size and shape of numpy array"
      ]
    },
    {
      "cell_type": "code",
      "metadata": {
        "id": "cKb-B74Q-0gF",
        "colab_type": "code",
        "outputId": "64605749-f866-44f6-bde8-389f94e6660b",
        "colab": {
          "base_uri": "https://localhost:8080/",
          "height": 85
        }
      },
      "source": [
        "# Create a 2d array with 3 rows and 4 columns\n",
        "list2 = [[1, 2, 3, 4],[3, 4, 5, 6], [5, 6, 7, 8]]\n",
        "arr2 = np.array(list2, dtype='float')\n",
        "arr2\n",
        "\n",
        "# shape\n",
        "print('Shape: ', arr2.shape)\n",
        "\n",
        "# dtype\n",
        "print('Datatype: ', arr2.dtype)\n",
        "\n",
        "# size\n",
        "print('Size: ', arr2.size)\n",
        "\n",
        "# ndim\n",
        "print('Num Dimensions: ', arr2.ndim)"
      ],
      "execution_count": 14,
      "outputs": [
        {
          "output_type": "stream",
          "text": [
            "Shape:  (3, 4)\n",
            "Datatype:  float64\n",
            "Size:  12\n",
            "Num Dimensions:  2\n"
          ],
          "name": "stdout"
        }
      ]
    },
    {
      "cell_type": "code",
      "metadata": {
        "id": "6O05LxhT5g59",
        "colab_type": "code",
        "colab": {
          "base_uri": "https://localhost:8080/",
          "height": 51
        },
        "outputId": "ef77fabd-a5a0-4e70-c534-85c447f7e294"
      },
      "source": [
        "#You can extract specific portions on an array using indexing starting with 0, something similar to how you would do with python lists.\n",
        "\n",
        "#But unlike lists, numpy arrays can optionally accept as many parameters in the square brackets as there is number of dimensions.\n",
        "list2 = [[1, 2, 3, 4],[3, 4, 5, 6], [5, 6, 7, 8]]\n",
        "arr2 = np.array(list2, dtype='float')\n",
        "\n",
        "arr2[:2, :2]\n"
      ],
      "execution_count": 15,
      "outputs": [
        {
          "output_type": "execute_result",
          "data": {
            "text/plain": [
              "array([[1., 2.],\n",
              "       [3., 4.]])"
            ]
          },
          "metadata": {
            "tags": []
          },
          "execution_count": 15
        }
      ]
    },
    {
      "cell_type": "code",
      "metadata": {
        "id": "l2K3i9W3Wvvg",
        "colab_type": "code",
        "colab": {}
      },
      "source": [
        "#list2[:2, :2]"
      ],
      "execution_count": 0,
      "outputs": []
    },
    {
      "cell_type": "code",
      "metadata": {
        "id": "hLp7Q2a2JxZq",
        "colab_type": "code",
        "colab": {
          "base_uri": "https://localhost:8080/",
          "height": 85
        },
        "outputId": "cf240e1b-2521-4fb6-f95f-3276b5099647"
      },
      "source": [
        "#Additionally, numpy arrays support boolean indexing.\n",
        "\n",
        "#A boolean index array is of the same shape as the array-to-be-filtered and it contains only True and False values. The values corresponding to True positions are retained in the output.\n",
        "list2 = [[1, 2, 3, 4],[3, 4, 5, 6], [5, 6, 7, 8]]\n",
        "arr2 = np.array(list2, dtype='float')\n",
        "print(arr2)\n",
        "b=arr2>3\n",
        "print(arr2[b])\n"
      ],
      "execution_count": 17,
      "outputs": [
        {
          "output_type": "stream",
          "text": [
            "[[1. 2. 3. 4.]\n",
            " [3. 4. 5. 6.]\n",
            " [5. 6. 7. 8.]]\n",
            "[4. 4. 5. 6. 5. 6. 7. 8.]\n"
          ],
          "name": "stdout"
        }
      ]
    },
    {
      "cell_type": "markdown",
      "metadata": {
        "id": "gMu6xJvPUMeu",
        "colab_type": "text"
      },
      "source": [
        "#Reversing an array works like how you would do with lists, but you need to do for all the axes (dimensions) if you want a complete reversal."
      ]
    },
    {
      "cell_type": "code",
      "metadata": {
        "id": "YHy30aHBInP8",
        "colab_type": "code",
        "colab": {
          "base_uri": "https://localhost:8080/",
          "height": 68
        },
        "outputId": "ca487c96-ae9e-40ee-9620-2bca6a655e04"
      },
      "source": [
        "print(arr2[::-1])"
      ],
      "execution_count": 18,
      "outputs": [
        {
          "output_type": "stream",
          "text": [
            "[[5. 6. 7. 8.]\n",
            " [3. 4. 5. 6.]\n",
            " [1. 2. 3. 4.]]\n"
          ],
          "name": "stdout"
        }
      ]
    },
    {
      "cell_type": "code",
      "metadata": {
        "id": "LigiJhhHT9gL",
        "colab_type": "code",
        "colab": {
          "base_uri": "https://localhost:8080/",
          "height": 68
        },
        "outputId": "ffe071d3-1f4d-45a9-a90f-21a4fcf22c4c"
      },
      "source": [
        "print(arr2[::-1,::-1])"
      ],
      "execution_count": 19,
      "outputs": [
        {
          "output_type": "stream",
          "text": [
            "[[8. 7. 6. 5.]\n",
            " [6. 5. 4. 3.]\n",
            " [4. 3. 2. 1.]]\n"
          ],
          "name": "stdout"
        }
      ]
    },
    {
      "cell_type": "markdown",
      "metadata": {
        "id": "aEPPYE_ms840",
        "colab_type": "text"
      },
      "source": [
        "#Representing missing values and infinite?\n",
        "# At times there are missing values in the dataset, so we can't just leave it blank\n"
      ]
    },
    {
      "cell_type": "code",
      "metadata": {
        "id": "Hxyo2qMBs8Pd",
        "colab_type": "code",
        "colab": {
          "base_uri": "https://localhost:8080/",
          "height": 68
        },
        "outputId": "cfa290c3-df3e-46c5-e964-4d5c3b5e25d5"
      },
      "source": [
        "#Missing values can be represented using np.nan object, while np.inf represents infinite. Let’s place some in arr2d.\n",
        "\n",
        "list2 = [[1, 2, 3, 4],[3, 4, 5, 6], [5, 6, 7, 8]]\n",
        "arr2 = np.array(list2, dtype='float')\n",
        "\n",
        "# Insert a nan and an inf\n",
        "arr2[1,1] = np.nan  # not a number\n",
        "arr2[1,2] = np.inf  # infinite\n",
        "arr2"
      ],
      "execution_count": 20,
      "outputs": [
        {
          "output_type": "execute_result",
          "data": {
            "text/plain": [
              "array([[ 1.,  2.,  3.,  4.],\n",
              "       [ 3., nan, inf,  6.],\n",
              "       [ 5.,  6.,  7.,  8.]])"
            ]
          },
          "metadata": {
            "tags": []
          },
          "execution_count": 20
        }
      ]
    },
    {
      "cell_type": "markdown",
      "metadata": {
        "id": "rMxYad0wxz1L",
        "colab_type": "text"
      },
      "source": [
        "#How to compute mean, min, max on the ndarray?\n"
      ]
    },
    {
      "cell_type": "code",
      "metadata": {
        "id": "sCHyeDRpx162",
        "colab_type": "code",
        "colab": {
          "base_uri": "https://localhost:8080/",
          "height": 68
        },
        "outputId": "8a89790f-5218-4390-d51e-19c8ebef1244"
      },
      "source": [
        "\n",
        "list2 = [[1, 2, 3, 4],[3, 4, 5, 6], [5, 6, 7, 8]]\n",
        "arr2 = np.array(list2, dtype='float')\n",
        "# mean, max and min\n",
        "print(\"Mean value is: \", arr2.mean())\n",
        "print(\"Max value is: \", arr2.max())\n",
        "print(\"Min value is: \", arr2.min())"
      ],
      "execution_count": 21,
      "outputs": [
        {
          "output_type": "stream",
          "text": [
            "Mean value is:  4.5\n",
            "Max value is:  8.0\n",
            "Min value is:  1.0\n"
          ],
          "name": "stdout"
        }
      ]
    },
    {
      "cell_type": "markdown",
      "metadata": {
        "id": "ZDJIQ3k4yNPs",
        "colab_type": "text"
      },
      "source": [
        "#However, if you want to compute the minimum values row wise or column wise, use the np.amin version instead."
      ]
    },
    {
      "cell_type": "code",
      "metadata": {
        "id": "tDTAfWcayOoq",
        "colab_type": "code",
        "colab": {
          "base_uri": "https://localhost:8080/",
          "height": 51
        },
        "outputId": "a086f4b5-09a5-4050-a201-e3491a4e9794"
      },
      "source": [
        "# Row wise and column wise min\n",
        "print(\"Column wise minimum: \", np.amin(arr2, axis=0))\n",
        "print(\"Row wise minimum: \", np.amin(arr2, axis=1))"
      ],
      "execution_count": 22,
      "outputs": [
        {
          "output_type": "stream",
          "text": [
            "Column wise minimum:  [1. 2. 3. 4.]\n",
            "Row wise minimum:  [1. 3. 5.]\n"
          ],
          "name": "stdout"
        }
      ]
    },
    {
      "cell_type": "markdown",
      "metadata": {
        "id": "9n0EwA8kHSs_",
        "colab_type": "text"
      },
      "source": [
        "#How to create a new array from an existing array?\n",
        "#If you just assign a portion of an array to another array, the new array you just created actually refers to the parent array in memory.\n",
        "\n",
        "#That means, if you make any changes to the new array, it will reflect in the parent array as well.\n",
        "\n",
        "#So to avoid disturbing the parent array, you need to make a copy of it using copy(). All numpy arrays come with the copy() method."
      ]
    },
    {
      "cell_type": "code",
      "metadata": {
        "id": "qlw3foFHHXsM",
        "colab_type": "code",
        "colab": {
          "base_uri": "https://localhost:8080/",
          "height": 102
        },
        "outputId": "81eae625-36b6-44f0-9f9c-b0c72062d08d"
      },
      "source": [
        "list2 = [[1, 2, 3, 4],[3, 4, 5, 6], [5, 6, 7, 8]]\n",
        "arr2 = np.array(list2, dtype='float')\n",
        "\n",
        "arr2a = arr2[:2,:2]  \n",
        "print(arr2a)\n",
        "arr2a[:1, :1] = 100  # 100 will reflect in arr2\n",
        "arr2"
      ],
      "execution_count": 23,
      "outputs": [
        {
          "output_type": "stream",
          "text": [
            "[[1. 2.]\n",
            " [3. 4.]]\n"
          ],
          "name": "stdout"
        },
        {
          "output_type": "execute_result",
          "data": {
            "text/plain": [
              "array([[100.,   2.,   3.,   4.],\n",
              "       [  3.,   4.,   5.,   6.],\n",
              "       [  5.,   6.,   7.,   8.]])"
            ]
          },
          "metadata": {
            "tags": []
          },
          "execution_count": 23
        }
      ]
    },
    {
      "cell_type": "code",
      "metadata": {
        "id": "GQp2DjqdJLb7",
        "colab_type": "code",
        "colab": {
          "base_uri": "https://localhost:8080/",
          "height": 68
        },
        "outputId": "1b78e074-5db2-4522-829b-bab85b787f09"
      },
      "source": [
        "arr2b = arr2[:2, :2].copy()\n",
        "arr2b[:1, :1] = 101  # 101 will not reflect in arr2\n",
        "arr2"
      ],
      "execution_count": 24,
      "outputs": [
        {
          "output_type": "execute_result",
          "data": {
            "text/plain": [
              "array([[100.,   2.,   3.,   4.],\n",
              "       [  3.,   4.,   5.,   6.],\n",
              "       [  5.,   6.,   7.,   8.]])"
            ]
          },
          "metadata": {
            "tags": []
          },
          "execution_count": 24
        }
      ]
    },
    {
      "cell_type": "code",
      "metadata": {
        "id": "2k7q6W54UHVy",
        "colab_type": "code",
        "colab": {
          "base_uri": "https://localhost:8080/",
          "height": 68
        },
        "outputId": "28bd4d89-15f4-4f5e-81fe-6c1054d1fc71"
      },
      "source": [
        "s=\"Syntax\"\n",
        "t=\"Wrong\"\n",
        "\n",
        "l='n'\n",
        "a='N'\n",
        "\n",
        "print( l in s)\n",
        "\n",
        "print( l in (s or t))\n",
        "\n",
        "print( a in (s and t))"
      ],
      "execution_count": 25,
      "outputs": [
        {
          "output_type": "stream",
          "text": [
            "True\n",
            "True\n",
            "False\n"
          ],
          "name": "stdout"
        }
      ]
    },
    {
      "cell_type": "markdown",
      "metadata": {
        "id": "BmMuTrPbT1Vw",
        "colab_type": "text"
      },
      "source": [
        "#Reshaping and Flattening Multidimensional arrays\n",
        "\n",
        "Reshaping is changing the arrangement of items so that shape of the array changes while maintaining the same number of dimensions.\n",
        "\n",
        "Flattening, however, will convert a multi-dimensional array to a flat 1d array. And not any other shape.\n",
        "\n",
        "First, let’s reshape the arr2 array from 3×4 to 4×3 shape."
      ]
    },
    {
      "cell_type": "code",
      "metadata": {
        "id": "DJqBByNKULsc",
        "colab_type": "code",
        "colab": {
          "base_uri": "https://localhost:8080/",
          "height": 85
        },
        "outputId": "cdb91c35-bb89-4528-a010-a249b2c53d1d"
      },
      "source": [
        "list2 = [[1, 2, 3, 4],[3, 4, 5, 6], [5, 6, 7, 8]]\n",
        "arr2 = np.array(list2, dtype='float')\n",
        "print(arr2)\n",
        "print(arr2.shape)"
      ],
      "execution_count": 26,
      "outputs": [
        {
          "output_type": "stream",
          "text": [
            "[[1. 2. 3. 4.]\n",
            " [3. 4. 5. 6.]\n",
            " [5. 6. 7. 8.]]\n",
            "(3, 4)\n"
          ],
          "name": "stdout"
        }
      ]
    },
    {
      "cell_type": "code",
      "metadata": {
        "id": "l22L-pZFVJ1Y",
        "colab_type": "code",
        "colab": {
          "base_uri": "https://localhost:8080/",
          "height": 85
        },
        "outputId": "c8dcb7c2-4975-4654-a5da-278596e1654b"
      },
      "source": [
        "arr2.reshape(4,3)"
      ],
      "execution_count": 27,
      "outputs": [
        {
          "output_type": "execute_result",
          "data": {
            "text/plain": [
              "array([[1., 2., 3.],\n",
              "       [4., 3., 4.],\n",
              "       [5., 6., 5.],\n",
              "       [6., 7., 8.]])"
            ]
          },
          "metadata": {
            "tags": []
          },
          "execution_count": 27
        }
      ]
    },
    {
      "cell_type": "code",
      "metadata": {
        "id": "6zsCgGdjVPyE",
        "colab_type": "code",
        "colab": {}
      },
      "source": [
        "#arr2.reshape(2,2)"
      ],
      "execution_count": 0,
      "outputs": []
    },
    {
      "cell_type": "code",
      "metadata": {
        "id": "ujquwaD9VUqP",
        "colab_type": "code",
        "colab": {
          "base_uri": "https://localhost:8080/",
          "height": 51
        },
        "outputId": "00dc3dce-2ab1-48d1-f596-14be5c6279f9"
      },
      "source": [
        "arr2.reshape(2,6)"
      ],
      "execution_count": 29,
      "outputs": [
        {
          "output_type": "execute_result",
          "data": {
            "text/plain": [
              "array([[1., 2., 3., 4., 3., 4.],\n",
              "       [5., 6., 5., 6., 7., 8.]])"
            ]
          },
          "metadata": {
            "tags": []
          },
          "execution_count": 29
        }
      ]
    },
    {
      "cell_type": "markdown",
      "metadata": {
        "id": "REMhOfqbViWo",
        "colab_type": "text"
      },
      "source": [
        "#What is the difference between flatten() and ravel()?\n",
        "There are 2 popular ways to implement flattening. That is using the flatten() method and the other using the ravel() method.\n",
        "\n",
        "The difference between ravel and flatten is, the new array created using ravel is actually a reference to the parent array. So, any changes to the new array will affect the parent as well. But is memory efficient since it does not create a copy."
      ]
    },
    {
      "cell_type": "code",
      "metadata": {
        "id": "idTVQETCVXsC",
        "colab_type": "code",
        "colab": {
          "base_uri": "https://localhost:8080/",
          "height": 34
        },
        "outputId": "f3d03c74-52e7-4bae-8be8-1c315cd5c4e8"
      },
      "source": [
        "list2 = [[1, 2, 3, 4],[3, 4, 5, 6], [5, 6, 7, 8]]\n",
        "arr2 = np.array(list2, dtype='int')\n",
        "arr2.flatten() "
      ],
      "execution_count": 30,
      "outputs": [
        {
          "output_type": "execute_result",
          "data": {
            "text/plain": [
              "array([1, 2, 3, 4, 3, 4, 5, 6, 5, 6, 7, 8])"
            ]
          },
          "metadata": {
            "tags": []
          },
          "execution_count": 30
        }
      ]
    },
    {
      "cell_type": "code",
      "metadata": {
        "id": "SnLR0V8lhvvt",
        "colab_type": "code",
        "colab": {
          "base_uri": "https://localhost:8080/",
          "height": 85
        },
        "outputId": "c482411c-648a-4071-e31e-41ca6a495ec6"
      },
      "source": [
        "b1=arr2.flatten()\n",
        "b1[0]=3\n",
        "print(b1)\n",
        "print(arr2)"
      ],
      "execution_count": 31,
      "outputs": [
        {
          "output_type": "stream",
          "text": [
            "[3 2 3 4 3 4 5 6 5 6 7 8]\n",
            "[[1 2 3 4]\n",
            " [3 4 5 6]\n",
            " [5 6 7 8]]\n"
          ],
          "name": "stdout"
        }
      ]
    },
    {
      "cell_type": "code",
      "metadata": {
        "id": "RnMe8GO3h6YI",
        "colab_type": "code",
        "colab": {
          "base_uri": "https://localhost:8080/",
          "height": 85
        },
        "outputId": "e1c9082c-dcb8-45de-9e25-7be9fdaf64a2"
      },
      "source": [
        "b2=arr2.ravel()  #ravel affects the original array\n",
        "b2[0]=3\n",
        "print(b2)\n",
        "print(arr2)"
      ],
      "execution_count": 32,
      "outputs": [
        {
          "output_type": "stream",
          "text": [
            "[3 2 3 4 3 4 5 6 5 6 7 8]\n",
            "[[3 2 3 4]\n",
            " [3 4 5 6]\n",
            " [5 6 7 8]]\n"
          ],
          "name": "stdout"
        }
      ]
    },
    {
      "cell_type": "markdown",
      "metadata": {
        "id": "H9PMiteZiUXl",
        "colab_type": "text"
      },
      "source": [
        "#How to create sequences, repetitions and random numbers using numpy?"
      ]
    },
    {
      "cell_type": "code",
      "metadata": {
        "id": "HsnftYjgiVVK",
        "colab_type": "code",
        "colab": {
          "base_uri": "https://localhost:8080/",
          "height": 85
        },
        "outputId": "64e71369-9a37-4aa4-95da-cecd381145ae"
      },
      "source": [
        "# Lower limit is 0 be default\n",
        "print(np.arange(5))  \n",
        "\n",
        "# 0 to 9\n",
        "print(np.arange(0, 10))  \n",
        "\n",
        "# 0 to 9 with step of 2\n",
        "print(np.arange(0, 10, 2))  \n",
        "\n",
        "# 10 to 1, decreasing order\n",
        "print(np.arange(10, 0, -1))\n",
        "\n"
      ],
      "execution_count": 33,
      "outputs": [
        {
          "output_type": "stream",
          "text": [
            "[0 1 2 3 4]\n",
            "[0 1 2 3 4 5 6 7 8 9]\n",
            "[0 2 4 6 8]\n",
            "[10  9  8  7  6  5  4  3  2  1]\n"
          ],
          "name": "stdout"
        }
      ]
    },
    {
      "cell_type": "markdown",
      "metadata": {
        "id": "0tbBnfd_nBUT",
        "colab_type": "text"
      },
      "source": [
        "You can set the starting and end positions using np.arange. But if you are focussed on the number of items in the array you will have to manually calculate the appropriate step value.\n",
        "\n",
        "Say, you want to create an array of exactly 10 numbers between 1 and 50, use linspace function"
      ]
    },
    {
      "cell_type": "code",
      "metadata": {
        "id": "INZ5dZhjnJ6p",
        "colab_type": "code",
        "colab": {
          "base_uri": "https://localhost:8080/",
          "height": 34
        },
        "outputId": "cf9fbcd3-5b54-47fe-edff-a7a5205e9e45"
      },
      "source": [
        "np.linspace(start=1, stop=50, num=10, dtype=int)\n",
        "\n",
        "#because it is int, the numbers aren't equally spaced. We can use float too."
      ],
      "execution_count": 34,
      "outputs": [
        {
          "output_type": "execute_result",
          "data": {
            "text/plain": [
              "array([ 1,  6, 11, 17, 22, 28, 33, 39, 44, 50])"
            ]
          },
          "metadata": {
            "tags": []
          },
          "execution_count": 34
        }
      ]
    },
    {
      "cell_type": "code",
      "metadata": {
        "id": "5AyhCEQ8nVME",
        "colab_type": "code",
        "colab": {
          "base_uri": "https://localhost:8080/",
          "height": 51
        },
        "outputId": "1349ab81-6c32-4cb5-e9a0-1393d846f66f"
      },
      "source": [
        "np.linspace(start=1, stop=50, num=10, dtype=float)"
      ],
      "execution_count": 35,
      "outputs": [
        {
          "output_type": "execute_result",
          "data": {
            "text/plain": [
              "array([ 1.        ,  6.44444444, 11.88888889, 17.33333333, 22.77777778,\n",
              "       28.22222222, 33.66666667, 39.11111111, 44.55555556, 50.        ])"
            ]
          },
          "metadata": {
            "tags": []
          },
          "execution_count": 35
        }
      ]
    },
    {
      "cell_type": "markdown",
      "metadata": {
        "id": "quFfpY8TniSg",
        "colab_type": "text"
      },
      "source": [
        "#The np.zeros and np.ones functions lets you create arrays of desired shape where all the items are either 0’s or 1’s."
      ]
    },
    {
      "cell_type": "code",
      "metadata": {
        "id": "18j_4fSioI49",
        "colab_type": "code",
        "colab": {
          "base_uri": "https://localhost:8080/",
          "height": 51
        },
        "outputId": "bcd59efd-2353-4116-db62-7112b6511537"
      },
      "source": [
        "np.zeros([2,2])"
      ],
      "execution_count": 36,
      "outputs": [
        {
          "output_type": "execute_result",
          "data": {
            "text/plain": [
              "array([[0., 0.],\n",
              "       [0., 0.]])"
            ]
          },
          "metadata": {
            "tags": []
          },
          "execution_count": 36
        }
      ]
    },
    {
      "cell_type": "markdown",
      "metadata": {
        "id": "6EQHTaMPir1c",
        "colab_type": "text"
      },
      "source": [
        ""
      ]
    },
    {
      "cell_type": "code",
      "metadata": {
        "id": "TTIarFpXo3yq",
        "colab_type": "code",
        "colab": {
          "base_uri": "https://localhost:8080/",
          "height": 51
        },
        "outputId": "46a26470-4d1f-4bb0-ac75-bb3fe8d7ff24"
      },
      "source": [
        "np.ones([2,3])"
      ],
      "execution_count": 37,
      "outputs": [
        {
          "output_type": "execute_result",
          "data": {
            "text/plain": [
              "array([[1., 1., 1.],\n",
              "       [1., 1., 1.]])"
            ]
          },
          "metadata": {
            "tags": []
          },
          "execution_count": 37
        }
      ]
    },
    {
      "cell_type": "markdown",
      "metadata": {
        "id": "9kZ6-PCRobO_",
        "colab_type": "text"
      },
      "source": [
        "#How to create repeating sequences?\n",
        "np.tile will repeat a whole list or array n times. Whereas, np.repeat repeats each item n times."
      ]
    },
    {
      "cell_type": "code",
      "metadata": {
        "id": "ol3m1Om7oN-h",
        "colab_type": "code",
        "colab": {
          "base_uri": "https://localhost:8080/",
          "height": 51
        },
        "outputId": "5c38f342-3514-4738-84eb-198e420a8366"
      },
      "source": [
        "a = [1,2,3] \n",
        "\n",
        "# Repeat whole of 'a' two times\n",
        "print('Tile:   ', np.tile(a, 2))\n",
        "\n",
        "# Repeat each element of 'a' two times\n",
        "print('Repeat: ', np.repeat(a, 2))"
      ],
      "execution_count": 38,
      "outputs": [
        {
          "output_type": "stream",
          "text": [
            "Tile:    [1 2 3 1 2 3]\n",
            "Repeat:  [1 1 2 2 3 3]\n"
          ],
          "name": "stdout"
        }
      ]
    },
    {
      "cell_type": "markdown",
      "metadata": {
        "id": "Y-Uct-mkpD6I",
        "colab_type": "text"
      },
      "source": [
        "#How to generate random numbers?\n",
        "The random module provides nice functions to generate random numbers (and also statistical distributions) of any given shape."
      ]
    },
    {
      "cell_type": "markdown",
      "metadata": {
        "id": "jCtZeKAxpWO4",
        "colab_type": "text"
      },
      "source": [
        "#But why random numbers?\n",
        "\n",
        "Randomness is a big part of machine learning.\n",
        "\n",
        "Randomness is used as a tool or a feature in preparing data and in learning algorithms that map input data to output data in order to make predictions.\n",
        "\n",
        "#Randomness in Machine Learning\n",
        "There are many sources\n",
        "\n",
        "Randomness is used as a tool to help the learning algorithms be more robust and ultimately result in better predictions and more accurate models.\n",
        "\n",
        "##Randomness in Data\n",
        "\n",
        "There is always a random element to the sample of data that we us in ML \n",
        "\n",
        "The data may have mistakes or errors.\n",
        "\n",
        "More deeply, the data contains noise that can obscure the crystal-clear relationship between the inputs and the outputs.\n",
        "\n",
        "##Randomness in Evaluation\n",
        "\n",
        "We work with only a small sample of the data. Therefore, we harness randomness when evaluating a model, such as using k-fold cross-validation to fit and evaluate the model on different subsets of the available dataset.\n",
        "\n",
        "We do this to see how the model works on average rather than on a specific set of data.\n",
        "\n",
        "##Randomness in Algorithms\n",
        "Machine learning algorithms use randomness when learning from a sample of data.\n",
        "\n",
        "This is a feature, where the randomness allows the algorithm to Algorithms that use randomness are often called stochastic algorithms rather than random algorithms. This is because although randomness is used, the resulting model is limited to a more narrow range, e.g. like limited randomness.\n",
        "\n",
        "Some clear examples of randomness used in machine learning algorithms include:\n",
        "\n",
        "The shuffling of training data prior to each training epoch in stochastic gradient descent.\n",
        "The random subset of input features chosen for spit points in a random forest algorithm.\n",
        "The random initial weights in an artificial neural network.achieve a better performing mapping of the data than if randomness was not used. Randomness is a feature, which allows an algorithm to attempt to avoid overfitting (over fitting) the small training set and generalize to the broader problem.\n",
        "\n",
        "#Pseudorandom Number Generators\n",
        "The source of randomness that we inject into our programs and algorithms is a mathematical trick called a pseudorandom number generator.\n",
        "\n",
        "We do not need true randomness in machine learning. Instead we can use pseudorandomness. Pseudorandomness is a sample of numbers that look close to random, but were generated using a deterministic process.\n",
        "\n",
        "Shuffling data and initializing coefficients with random values use pseudorandom number generators. These little programs are often a function that you can call that will return a random number. Called again, they will return a new random number. Wrapper functions are often also available and allow you to get your randomness as an integer, floating point, within a specific distribution, within a specific range, and so on.\n",
        "\n",
        "The numbers are generated in a sequence. The sequence is deterministic and is seeded with an initial number. If you do not explicitly seed the pseudorandom number generator, then it may use the current system time in seconds or milliseconds as the seed.\n",
        "\n",
        "The value of the seed does not matter. Choose anything you wish. What does matter is that the same seeding of the process will result in the same sequence of random numbers.\n",
        "\n"
      ]
    },
    {
      "cell_type": "code",
      "metadata": {
        "id": "DBwI67uro_Ew",
        "colab_type": "code",
        "colab": {}
      },
      "source": [
        "#Syntax - np.random.rand((array dim))\n",
        "#either use this \n",
        "from numpy.random import rand   \n",
        "print(rand(2,2))\n",
        "\n",
        "#or\n",
        "print(np.random.rand(2,2))\n"
      ],
      "execution_count": 0,
      "outputs": []
    },
    {
      "cell_type": "code",
      "metadata": {
        "id": "BBJm1B4QKlMU",
        "colab_type": "code",
        "colab": {
          "base_uri": "https://localhost:8080/",
          "height": 204
        },
        "outputId": "3b56a9a5-6561-45fb-f8b3-b1ee2c88d67d"
      },
      "source": [
        "# Random numbers between [0,1) of shape 2,2\n",
        "print(np.random.rand(2,2))\n",
        "\n",
        "# Normal distribution with mean=0 and variance=1 of shape 2,2\n",
        "print(np.random.randn(2,2))\n",
        "\n",
        "# Random integers between [0, 10) of shape 2,2\n",
        "print(np.random.randint(0, 10, size=[2,2]))\n",
        "\n",
        "# One random number between [0,1)\n",
        "print(np.random.random())\n",
        "\n",
        "# Random numbers between [0,1) of shape 2,2\n",
        "print(np.random.random(size=[2,2]))\n",
        "\n",
        "# Pick 10 items from a given list, with equal probability\n",
        "print(np.random.choice(['a', 'e', 'i', 'o', 'u'], size=10))  \n",
        "\n",
        "# Pick 10 items from a given list with a predefined probability 'p'\n",
        "print(np.random.choice(['a', 'e', 'i', 'o', 'u'], size=10, p=[0.3, .1, 0.1, 0.4, 0.1]))  # picks more o's"
      ],
      "execution_count": 41,
      "outputs": [
        {
          "output_type": "stream",
          "text": [
            "[[0.2315273  0.00553812]\n",
            " [0.04391763 0.40865781]]\n",
            "[[ 0.98213739  0.14718366]\n",
            " [-1.5411265  -1.82583622]]\n",
            "[[2 4]\n",
            " [8 9]]\n",
            "0.3325283474714408\n",
            "[[0.9323251  0.52738211]\n",
            " [0.06254249 0.00900818]]\n",
            "['a' 'e' 'e' 'a' 'i' 'e' 'e' 'a' 'u' 'e']\n",
            "['o' 'a' 'o' 'u' 'o' 'o' 'u' 'i' 'o' 'o']\n"
          ],
          "name": "stdout"
        }
      ]
    },
    {
      "cell_type": "markdown",
      "metadata": {
        "id": "k1gsXcfSL8eU",
        "colab_type": "text"
      },
      "source": [
        "Now, everytime we run any of the above functions, you get a different set of random numbers.\n",
        "\n",
        "If you want to repeat the same set of random numbers every time, you need to set the seed or the random state. The seed can be any value. The only requirement is you must set the seed to the same value every time you want to generate the same set of random numbers."
      ]
    },
    {
      "cell_type": "markdown",
      "metadata": {
        "id": "_CRPXba6TFNH",
        "colab_type": "text"
      },
      "source": [
        "#How to get the unique items and the counts?\n",
        "The np.unique method can be used to get the unique items. If you want the repetition counts of each item, set the return_counts parameter to True."
      ]
    },
    {
      "cell_type": "code",
      "metadata": {
        "id": "dvWixXPNLy8w",
        "colab_type": "code",
        "colab": {
          "base_uri": "https://localhost:8080/",
          "height": 34
        },
        "outputId": "0fb49685-c239-49dc-d336-bfde9f2d5759"
      },
      "source": [
        "# Create random integers of size 10 between [0,10)\n",
        "np.random.seed(100)\n",
        "arr_rand = np.random.randint(0, 10, size=10)\n",
        "print(arr_rand)\n"
      ],
      "execution_count": 42,
      "outputs": [
        {
          "output_type": "stream",
          "text": [
            "[8 8 3 7 7 0 4 2 5 2]\n"
          ],
          "name": "stdout"
        }
      ]
    },
    {
      "cell_type": "code",
      "metadata": {
        "id": "K6W7pEQ2TINZ",
        "colab_type": "code",
        "colab": {
          "base_uri": "https://localhost:8080/",
          "height": 51
        },
        "outputId": "299a39d6-788a-43db-aa7a-d55f9db8f9f8"
      },
      "source": [
        "# Get the unique items and their counts\n",
        "uniqs, counts = np.unique(arr_rand, return_counts=True)\n",
        "print(\"Unique items : \", uniqs)\n",
        "print(\"Counts       : \", counts)\n"
      ],
      "execution_count": 43,
      "outputs": [
        {
          "output_type": "stream",
          "text": [
            "Unique items :  [0 2 3 4 5 7 8]\n",
            "Counts       :  [1 2 1 1 1 2 2]\n"
          ],
          "name": "stdout"
        }
      ]
    },
    {
      "cell_type": "markdown",
      "metadata": {
        "id": "7fh1Ewn6TyNL",
        "colab_type": "text"
      },
      "source": [
        "\n"
      ]
    },
    {
      "cell_type": "code",
      "metadata": {
        "id": "ciHAcdA6TKDg",
        "colab_type": "code",
        "colab": {}
      },
      "source": [
        ""
      ],
      "execution_count": 0,
      "outputs": []
    }
  ]
}