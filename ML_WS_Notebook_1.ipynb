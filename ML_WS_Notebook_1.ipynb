{
  "nbformat": 4,
  "nbformat_minor": 0,
  "metadata": {
    "colab": {
      "name": "ML WS Notebook 1",
      "version": "0.3.2",
      "provenance": [],
      "include_colab_link": true
    },
    "kernelspec": {
      "name": "python3",
      "display_name": "Python 3"
    }
  },
  "cells": [
    {
      "cell_type": "markdown",
      "metadata": {
        "id": "view-in-github",
        "colab_type": "text"
      },
      "source": [
        "<a href=\"https://colab.research.google.com/github/SamarjeetKaur/ML/blob/master/ML_WS_Notebook_1.ipynb\" target=\"_parent\"><img src=\"https://colab.research.google.com/assets/colab-badge.svg\" alt=\"Open In Colab\"/></a>"
      ]
    },
    {
      "cell_type": "markdown",
      "metadata": {
        "id": "LVqFNMJ-aZUb",
        "colab_type": "text"
      },
      "source": [
        ""
      ]
    },
    {
      "cell_type": "markdown",
      "metadata": {
        "id": "E9VaMR3AabTV",
        "colab_type": "text"
      },
      "source": [
        "# **Introduction to Python Programming language**\n",
        "Python was developed by Guido van Rossum. Guido van Rossum started implementing Python in 1989. Python is a very simple programming language so even if you are new to programming, you can learn python without facing any issues.\n",
        "\n",
        "Interesting fact: Python is named after the comedy television show Monty Python’s Flying Circus. It is not named after the Python snake.\n",
        "\n",
        "Features of Python programming language\n",
        "Features of Python\n",
        "1. **Readable**: Python is a very readable language.\n",
        "\n",
        "2. **Easy to Learn**: Learning python is easy as this is a expressive and high level programming language, which means it is easy to understand the language and thus easy to learn.\n",
        "\n",
        "\n",
        "3. **Cross platform**: Python is available and can run on various operating systems such as Mac, Windows, Linux, Unix etc. This makes it a cross platform and portable language.\n",
        "\n",
        "4. **Open Source**: Python is a open source programming language.\n",
        "\n",
        "5. **Large standard library**: Python comes with a large standard library that has some handy codes and functions which we can use while writing code in Python.\n",
        "\n",
        "6. **Free**: Python is free to download and use. This means you can download it for free and use it in your application. See: Open Source Python License. Python is an example of a FLOSS (Free/Libre Open Source Software), which means you can freely distribute copies of this software, read its source code and modify it.\n",
        "\n",
        "7. **Supports exception handling**: If you are new, you may wonder what is an exception? An exception is an event that can occur during program exception and can disrupt the normal flow of program. Python supports exception handling which means we can write less error prone code and can test various scenarios that can cause an exception later on.\n",
        "\n",
        "8. **Advanced features**: Supports generators and list comprehensions. \n",
        "\n",
        "9. **Automatic memory management**: Python supports automatic memory management which means the memory is cleared and freed automatically. You do not have to bother clearing the memory.\n",
        "\n",
        "What Can You Do with Python?\n",
        "You may be wondering what all are the applications of Python. There are so many applications of Python, here are some of the them.\n",
        "1. **Web development** – Web framework like Django and Flask are based on Python. They help you write server side code which helps you manage database, write backend programming logic, mapping urls etc.\n",
        "\n",
        "2. **Machine learning** – There are many machine learning applications written in Python. Machine learning is a way to write a logic so that a machine can learn and solve a particular problem on its own. For example, products recommendation in websites like Amazon, Flipkart, eBay etc. is a machine learning algorithm that recognises user’s interest. Face recognition and Voice recognition in your phone is another example of machine learning.\n",
        "\n",
        "3. **Data Analysis** – Data analysis and data visualisation in form of charts can also be developed using Python.\n",
        "\n",
        "4. **Scripting** – Scripting is writing small programs to automate simple tasks such as sending automated response emails etc. Such type of applications can also be written in Python programming language.\n",
        "\n",
        "5. **Game development** – You can develop games using Python.\n",
        "\n",
        "6. You can develop Embedded applications in Python.\n",
        "\n",
        "7. **Desktop applications** – You can develop desktop application in Python using library like TKinter or QT.\n",
        "\n"
      ]
    },
    {
      "cell_type": "markdown",
      "metadata": {
        "id": "JIKHMGXig16B",
        "colab_type": "text"
      },
      "source": [
        "#Printing basic stuff"
      ]
    },
    {
      "cell_type": "code",
      "metadata": {
        "id": "waQ0xSiOacu-",
        "colab_type": "code",
        "outputId": "9d069176-bbd5-46c3-d524-43a6739b23ec",
        "colab": {
          "base_uri": "https://localhost:8080/",
          "height": 35
        }
      },
      "source": [
        "print(\"Hello World\")"
      ],
      "execution_count": 4,
      "outputs": [
        {
          "output_type": "stream",
          "text": [
            "Hello World\n"
          ],
          "name": "stdout"
        }
      ]
    },
    {
      "cell_type": "code",
      "metadata": {
        "id": "sggmPSn-hIZK",
        "colab_type": "code",
        "outputId": "216216b2-7aa0-4083-e5e4-7b3978f8a69d",
        "colab": {
          "base_uri": "https://localhost:8080/",
          "height": 35
        }
      },
      "source": [
        "print('Hello World')"
      ],
      "execution_count": 5,
      "outputs": [
        {
          "output_type": "stream",
          "text": [
            "Hello World\n"
          ],
          "name": "stdout"
        }
      ]
    },
    {
      "cell_type": "code",
      "metadata": {
        "id": "V0sqehpAh13X",
        "colab_type": "code",
        "outputId": "0e4d820d-ddaa-482e-f759-b367bb212d50",
        "colab": {
          "base_uri": "https://localhost:8080/",
          "height": 70
        }
      },
      "source": [
        "#Double and Single quotes mean the same in case of strings\n",
        "\n",
        "a= \"Hello\"\n",
        "print(a)\n",
        "\n",
        "a= 'Hello'\n",
        "print(a)\n",
        "\n",
        "print('a') #Put in quotation, it'll intrepret the argument as char/string and without quotes it'll be interpreted as a variable"
      ],
      "execution_count": 6,
      "outputs": [
        {
          "output_type": "stream",
          "text": [
            "Hello\n",
            "Hello\n",
            "a\n"
          ],
          "name": "stdout"
        }
      ]
    },
    {
      "cell_type": "code",
      "metadata": {
        "id": "hg_EFzECg7xw",
        "colab_type": "code",
        "outputId": "4a5573f1-851a-4054-ca99-3e3f983f67c8",
        "colab": {
          "base_uri": "https://localhost:8080/",
          "height": 52
        }
      },
      "source": [
        "a= 5\n",
        "b=6\n",
        "c=\"hello\"\n",
        "print(a+b)\n",
        "print(a,b,c)"
      ],
      "execution_count": 72,
      "outputs": [
        {
          "output_type": "stream",
          "text": [
            "11\n",
            "5 6 hello\n"
          ],
          "name": "stdout"
        }
      ]
    },
    {
      "cell_type": "markdown",
      "metadata": {
        "id": "EpRhYfcficCZ",
        "colab_type": "text"
      },
      "source": [
        "##Below is an example of an expression. Expression is something that produces value. In this case, python interpreter interprets what's given in between the parentheses and evaluates that expression"
      ]
    },
    {
      "cell_type": "code",
      "metadata": {
        "id": "K_gaQHGeiOpA",
        "colab_type": "code",
        "outputId": "8c8ca777-26b4-43f8-fad1-d19e7c203623",
        "colab": {
          "base_uri": "https://localhost:8080/",
          "height": 246
        }
      },
      "source": [
        "print('*'*10)\n",
        "print(\"hello \\n\"*10)\n",
        "print(2*10)"
      ],
      "execution_count": 75,
      "outputs": [
        {
          "output_type": "stream",
          "text": [
            "**********\n",
            "hello \n",
            "hello \n",
            "hello \n",
            "hello \n",
            "hello \n",
            "hello \n",
            "hello \n",
            "hello \n",
            "hello \n",
            "hello \n",
            "\n",
            "20\n"
          ],
          "name": "stdout"
        }
      ]
    },
    {
      "cell_type": "markdown",
      "metadata": {
        "id": "u-0ybr-0kD5X",
        "colab_type": "text"
      },
      "source": [
        "#Python Datatypes\n",
        "\n"
      ]
    },
    {
      "cell_type": "markdown",
      "metadata": {
        "id": "vSpwm42JkaIZ",
        "colab_type": "text"
      },
      "source": [
        "###Integer : In Python 3, there is effectively no limit to how long an integer value can be. Of course, it is constrained by the amount of memory your system has, as are all things, but beyond that an integer can be as long as you need it to be:"
      ]
    },
    {
      "cell_type": "code",
      "metadata": {
        "id": "iXLz7KRFkbh_",
        "colab_type": "code",
        "outputId": "5ceb4063-83b0-42fb-ca5b-d73d8125320e",
        "colab": {
          "base_uri": "https://localhost:8080/",
          "height": 35
        }
      },
      "source": [
        "print(123123123123123123123123123123123123123123123123 + 1)"
      ],
      "execution_count": 9,
      "outputs": [
        {
          "output_type": "stream",
          "text": [
            "123123123123123123123123123123123123123123123124\n"
          ],
          "name": "stdout"
        }
      ]
    },
    {
      "cell_type": "markdown",
      "metadata": {
        "id": "IULXdcUolAKo",
        "colab_type": "text"
      },
      "source": [
        "#Floating-Point Numbers\n",
        "\n",
        "###The float type in Python designates a floating-point number. float values are specified with a decimal point. Optionally, the character e or E followed by a positive or negative integer may be appended to specify scientific notation:\n"
      ]
    },
    {
      "cell_type": "code",
      "metadata": {
        "id": "6w1il5nvm0lV",
        "colab_type": "code",
        "outputId": "849a7fe7-a1b3-42ba-d191-2ce1c6cb2dea",
        "colab": {
          "base_uri": "https://localhost:8080/",
          "height": 52
        }
      },
      "source": [
        "print(4.2)\n",
        "print(4.2378+0.00001)"
      ],
      "execution_count": 76,
      "outputs": [
        {
          "output_type": "stream",
          "text": [
            "4.2\n",
            "4.23781\n"
          ],
          "name": "stdout"
        }
      ]
    },
    {
      "cell_type": "markdown",
      "metadata": {
        "id": "ttz4elUidy09",
        "colab_type": "text"
      },
      "source": [
        ""
      ]
    },
    {
      "cell_type": "code",
      "metadata": {
        "id": "ckxHMtPlm66J",
        "colab_type": "code",
        "outputId": "fb3298ab-c16e-48fe-c343-bd43ef0a0ad0",
        "colab": {
          "base_uri": "https://localhost:8080/",
          "height": 35
        }
      },
      "source": [
        "print(4e7)"
      ],
      "execution_count": 11,
      "outputs": [
        {
          "output_type": "stream",
          "text": [
            "40000000.0\n"
          ],
          "name": "stdout"
        }
      ]
    },
    {
      "cell_type": "code",
      "metadata": {
        "id": "ALzyXXcPm7cG",
        "colab_type": "code",
        "outputId": "8695722e-902c-42cd-9e7b-67269c51439c",
        "colab": {
          "base_uri": "https://localhost:8080/",
          "height": 105
        }
      },
      "source": [
        "a=8e-4\n",
        "print(a)\n",
        "print(type(4))\n",
        "print(type(a))\n",
        "print(type(4.2))\n",
        "print(type(4e7))\n",
        "#type(\"Hello\")"
      ],
      "execution_count": 83,
      "outputs": [
        {
          "output_type": "stream",
          "text": [
            "0.0008\n",
            "<class 'int'>\n",
            "<class 'float'>\n",
            "<class 'float'>\n",
            "<class 'float'>\n"
          ],
          "name": "stdout"
        }
      ]
    },
    {
      "cell_type": "markdown",
      "metadata": {
        "id": "JzcIa-8mnxok",
        "colab_type": "text"
      },
      "source": [
        "#Complex Numbers\n",
        "###Complex numbers are specified as < real part >+< imaginary part >j. For example:"
      ]
    },
    {
      "cell_type": "code",
      "metadata": {
        "id": "Dm2DDNSbm-rA",
        "colab_type": "code",
        "outputId": "29595be0-aef1-4df1-c177-c6b6fbde07fe",
        "colab": {
          "base_uri": "https://localhost:8080/",
          "height": 35
        }
      },
      "source": [
        "type(2+3j)"
      ],
      "execution_count": 13,
      "outputs": [
        {
          "output_type": "execute_result",
          "data": {
            "text/plain": [
              "complex"
            ]
          },
          "metadata": {
            "tags": []
          },
          "execution_count": 13
        }
      ]
    },
    {
      "cell_type": "markdown",
      "metadata": {
        "id": "o7zI5Y0LoIg-",
        "colab_type": "text"
      },
      "source": [
        "#Strings\n",
        "###Strings are sequences of character data. The string type in Python is called str.\n",
        "\n",
        "###String literals may be delimited using either single or double quotes. All the characters between the opening delimiter and matching closing delimiter are part of the string:"
      ]
    },
    {
      "cell_type": "code",
      "metadata": {
        "id": "y1xepEAGn5mq",
        "colab_type": "code",
        "outputId": "52232e3e-4f44-4a66-accc-c14bd7d2f01a",
        "colab": {
          "base_uri": "https://localhost:8080/",
          "height": 35
        }
      },
      "source": [
        "a=\"Hello World\"\n",
        "type(a)"
      ],
      "execution_count": 14,
      "outputs": [
        {
          "output_type": "execute_result",
          "data": {
            "text/plain": [
              "str"
            ]
          },
          "metadata": {
            "tags": []
          },
          "execution_count": 14
        }
      ]
    },
    {
      "cell_type": "markdown",
      "metadata": {
        "id": "ROXSxAKkooho",
        "colab_type": "text"
      },
      "source": [
        "#Boolean Type\n",
        "###Python 3 provides a Boolean data type. Objects of Boolean type may have one of two ###values, True or False:"
      ]
    },
    {
      "cell_type": "code",
      "metadata": {
        "id": "3kyS4-yDoPFE",
        "colab_type": "code",
        "outputId": "0cbcd428-250d-44d4-f9ad-a30ba6569bec",
        "colab": {
          "base_uri": "https://localhost:8080/",
          "height": 35
        }
      },
      "source": [
        "type(True)\n",
        "type(False)"
      ],
      "execution_count": 15,
      "outputs": [
        {
          "output_type": "execute_result",
          "data": {
            "text/plain": [
              "bool"
            ]
          },
          "metadata": {
            "tags": []
          },
          "execution_count": 15
        }
      ]
    },
    {
      "cell_type": "markdown",
      "metadata": {
        "id": "BE4Z80mms4Ij",
        "colab_type": "text"
      },
      "source": [
        "#Arithmetic Operators\n",
        "### Addition : a+b\n",
        "### Subtraction: a-b\n",
        "### Multiplicatiom: a*b\n",
        "### Division: a/b\n",
        "### Modulo: a%b (gives remainder when a is divided by b)\n",
        "### Floor Division: a//b (rounds of quotient to next smallest whole number)\n",
        "### Exponentiation: a**b (a raised to the power b)"
      ]
    },
    {
      "cell_type": "code",
      "metadata": {
        "id": "xBhQQ-FIoyed",
        "colab_type": "code",
        "outputId": "92c42e5c-ca3f-48dc-b118-5ecfec3b6bbe",
        "colab": {
          "base_uri": "https://localhost:8080/",
          "height": 140
        }
      },
      "source": [
        "a=5\n",
        "b=2\n",
        "\n",
        "print(a+b)\n",
        "\n",
        "print(a-b)\n",
        "\n",
        "print(a*b)\n",
        "\n",
        "print(a/b)  #The result of standard division (/) is always a float, even if the dividend is evenly divisible by the divisor\n",
        "\n",
        "print(a%b)\n",
        "\n",
        "print(a//b) #When the result of floor division (//) is positive, it is as though the fractional portion is truncated off, leaving only the integer portion.\n",
        "            #When the result is negative, the result is rounded down to the next smallest (greater negative) integer\n",
        "\n",
        "print(a**b)\n",
        "\n",
        "\n",
        "#Try : -10 // 4"
      ],
      "execution_count": 16,
      "outputs": [
        {
          "output_type": "stream",
          "text": [
            "7\n",
            "3\n",
            "10\n",
            "2.5\n",
            "1\n",
            "2\n",
            "25\n"
          ],
          "name": "stdout"
        }
      ]
    },
    {
      "cell_type": "markdown",
      "metadata": {
        "id": "-ac8r-jNTK88",
        "colab_type": "text"
      },
      "source": [
        "#Comparison Operators\n",
        "### Equal to : a == b\n",
        "### Not Equal to: a!=b\n",
        "### Less than: a < b\n",
        "### Less than equal to: a <=b\n",
        "### Greater than: a > b\n",
        "### Greater than equal to: a >= b\n"
      ]
    },
    {
      "cell_type": "code",
      "metadata": {
        "id": "f5msfu8oybRk",
        "colab_type": "code",
        "colab": {
          "base_uri": "https://localhost:8080/",
          "height": 52
        },
        "outputId": "069dd863-a6c1-4386-eb3d-6b866dd16063"
      },
      "source": [
        "a=\"hello\"\n",
        "b=\"abc\"\n",
        "print(b>a)\n",
        "a='a'\n",
        "b='b'\n",
        "print(b>a)"
      ],
      "execution_count": 86,
      "outputs": [
        {
          "output_type": "stream",
          "text": [
            "False\n",
            "True\n"
          ],
          "name": "stdout"
        }
      ]
    },
    {
      "cell_type": "markdown",
      "metadata": {
        "id": "_e-xau3JvXlZ",
        "colab_type": "text"
      },
      "source": [
        "#Logical Operators\n",
        "\n",
        "### not\n",
        "### or\n",
        "### and"
      ]
    },
    {
      "cell_type": "markdown",
      "metadata": {
        "id": "tPHt1lynwVIQ",
        "colab_type": "text"
      },
      "source": [
        "#Bitwise Operators\n",
        "\n",
        "### Bitwise operators treat operands as sequences of binary digits and operate on them bit by bit.\n",
        "### Bitwise AND : a & b\n",
        "### Bitwise OR  : a | b\n",
        "### Bitwise negation: ~a  (1 in place of 0 and 0 in place of 1)\n",
        "### Bitwise XOR : a ^ b\n",
        "### Bitwise shift right n places : a >> n\n",
        "### Bitwise shift left  n places:  a << n"
      ]
    },
    {
      "cell_type": "markdown",
      "metadata": {
        "id": "oOHJHSdWgGaW",
        "colab_type": "text"
      },
      "source": [
        "#String and Operators"
      ]
    },
    {
      "cell_type": "code",
      "metadata": {
        "id": "8cW-DELkt6TC",
        "colab_type": "code",
        "colab": {
          "base_uri": "https://localhost:8080/",
          "height": 52
        },
        "outputId": "5f87f874-269c-4765-88e5-5f8985ec5c2c"
      },
      "source": [
        "s=\"Machine\"\n",
        "l= \"learning\"\n",
        "print(s+l)   # the + operator\n",
        "print(s*5)  #the * operator"
      ],
      "execution_count": 88,
      "outputs": [
        {
          "output_type": "stream",
          "text": [
            "Machinelearning\n",
            "MachineMachineMachineMachineMachine\n"
          ],
          "name": "stdout"
        }
      ]
    },
    {
      "cell_type": "markdown",
      "metadata": {
        "id": "eTEvALY0hAkh",
        "colab_type": "text"
      },
      "source": [
        ""
      ]
    },
    {
      "cell_type": "markdown",
      "metadata": {
        "id": "B-RIOkUDhAn4",
        "colab_type": "text"
      },
      "source": [
        "### The in operator"
      ]
    },
    {
      "cell_type": "code",
      "metadata": {
        "id": "V299juPfgNIT",
        "colab_type": "code",
        "colab": {
          "base_uri": "https://localhost:8080/",
          "height": 35
        },
        "outputId": "b6654005-d14e-42c9-c1a4-5a1a34f64a6e"
      },
      "source": [
        "l = 'M'\n",
        "\n",
        "print(l in s or l)"
      ],
      "execution_count": 89,
      "outputs": [
        {
          "output_type": "stream",
          "text": [
            "True\n"
          ],
          "name": "stdout"
        }
      ]
    },
    {
      "cell_type": "markdown",
      "metadata": {
        "id": "w3Uu_78VzOeu",
        "colab_type": "text"
      },
      "source": [
        "###The not in operator"
      ]
    },
    {
      "cell_type": "code",
      "metadata": {
        "id": "QgsQ2VTAhRYN",
        "colab_type": "code",
        "colab": {
          "base_uri": "https://localhost:8080/",
          "height": 35
        },
        "outputId": "aa36977f-ed8a-454f-c012-fe223a2b894f"
      },
      "source": [
        "l='A'\n",
        "print(l not in s)"
      ],
      "execution_count": 19,
      "outputs": [
        {
          "output_type": "stream",
          "text": [
            "True\n"
          ],
          "name": "stdout"
        }
      ]
    },
    {
      "cell_type": "markdown",
      "metadata": {
        "id": "jTbU6AIdALqV",
        "colab_type": "text"
      },
      "source": [
        "#Built in String functions\n",
        "\n",
        "### chr() : Converts an integer to a character\n",
        "### ord(): Converts a character to an integer\n",
        "### len(): Returns the length of a string\n",
        "### str(): Returns a string representation of an object\n",
        "\n",
        "\n",
        "\n"
      ]
    },
    {
      "cell_type": "code",
      "metadata": {
        "id": "U7UICRNq4AMb",
        "colab_type": "code",
        "colab": {
          "base_uri": "https://localhost:8080/",
          "height": 35
        },
        "outputId": "28d6e7eb-9321-4347-b3fd-6445e1c11d90"
      },
      "source": [
        "len(\"a b\")\n",
        "a=\"hello\"\n",
        "print(a.upper())"
      ],
      "execution_count": 91,
      "outputs": [
        {
          "output_type": "stream",
          "text": [
            "HELLO\n"
          ],
          "name": "stdout"
        }
      ]
    },
    {
      "cell_type": "markdown",
      "metadata": {
        "id": "tHw73CMIBXHA",
        "colab_type": "text"
      },
      "source": [
        "#String Indexing\n",
        "###Often in programming languages, individual items in an ordered set of data can be accessed directly using a numeric index or key value. This process is referred to as indexing.\n",
        "\n",
        "###In Python, strings are ordered sequences of character data, and thus can be indexed in this way. Individual characters in a string can be accessed by specifying the string name followed by a number in square brackets ([]).\n",
        "\n",
        "###String indexing in Python is zero-based: the first character in the string has index 0, the next has index 1, and so on. The index of the last character will be the length of the string minus one."
      ]
    },
    {
      "cell_type": "code",
      "metadata": {
        "id": "P9-pA4EuAF22",
        "colab_type": "code",
        "colab": {
          "base_uri": "https://localhost:8080/",
          "height": 50
        },
        "outputId": "f5b89fb2-68a4-4f70-8a8e-c29e188a3638"
      },
      "source": [
        "s =\"Hello World\"\n",
        "print(s[6])\n",
        "print(s[len(s)-1])\n",
        "\n",
        "#Print the last letter of this string using len() function\n",
        "#Try negative indexing\n"
      ],
      "execution_count": 93,
      "outputs": [
        {
          "output_type": "stream",
          "text": [
            "W\n",
            "d\n"
          ],
          "name": "stdout"
        }
      ]
    },
    {
      "cell_type": "markdown",
      "metadata": {
        "id": "phiwvJ4EDRqE",
        "colab_type": "text"
      },
      "source": [
        "#String slicing\n",
        "###Python also allows a form of indexing syntax that extracts substrings from a string, known as string slicing. If s is a string, ###an expression of the form s[m:n] returns the portion of s starting with position m, and up to but not including position n:"
      ]
    },
    {
      "cell_type": "code",
      "metadata": {
        "id": "HligyzspBEcb",
        "colab_type": "code",
        "colab": {
          "base_uri": "https://localhost:8080/",
          "height": 34
        },
        "outputId": "04dd82c3-8323-45af-fd47-7a089e2ed384"
      },
      "source": [
        "s= \"foobar\"\n",
        "print(s[2:5])"
      ],
      "execution_count": 21,
      "outputs": [
        {
          "output_type": "stream",
          "text": [
            "oba\n"
          ],
          "name": "stdout"
        }
      ]
    },
    {
      "cell_type": "markdown",
      "metadata": {
        "id": "TfBkWPm6EOb_",
        "colab_type": "text"
      },
      "source": [
        "###If you omit the first index, the slice starts at the beginning of the string. Thus, s[:m] and s[0:m] are equivalent:"
      ]
    },
    {
      "cell_type": "code",
      "metadata": {
        "id": "Dmwokg8OD2n_",
        "colab_type": "code",
        "colab": {
          "base_uri": "https://localhost:8080/",
          "height": 67
        },
        "outputId": "f6a69dfc-078f-43cc-b3cf-bc5a76c12437"
      },
      "source": [
        "print(s[0:6])\n",
        "print(s[:6])\n",
        "#try negative index slicing\n",
        "s=\"hello\"\n",
        "print(s[:-1])"
      ],
      "execution_count": 110,
      "outputs": [
        {
          "output_type": "stream",
          "text": [
            "hello\n",
            "hello\n",
            "hell\n"
          ],
          "name": "stdout"
        }
      ]
    },
    {
      "cell_type": "markdown",
      "metadata": {
        "id": "JHdzAEv9FYl2",
        "colab_type": "text"
      },
      "source": [
        "# Specifying a Stride in a String Slice\n",
        "###There is one more variant of the slicing syntax to discuss. Adding an additional : and a third index designates a stride (also called a step), which indicates how many characters to jump after retrieving each character in the slice.\n",
        "\n",
        "###For example, for the string 'foobar', the slice 0:6:2 starts with the first character and ends with the last character (the whole string), and every second character is skipped."
      ]
    },
    {
      "cell_type": "code",
      "metadata": {
        "id": "YiEKrpGKEVTK",
        "colab_type": "code",
        "colab": {
          "base_uri": "https://localhost:8080/",
          "height": 50
        },
        "outputId": "22c19db0-83f2-42fb-d051-39fe136742b1"
      },
      "source": [
        "s=\"foobar\"\n",
        "print(s[-1:-4:-1])\n",
        "print(c)"
      ],
      "execution_count": 119,
      "outputs": [
        {
          "output_type": "stream",
          "text": [
            "rab\n",
            "\n"
          ],
          "name": "stdout"
        }
      ]
    },
    {
      "cell_type": "markdown",
      "metadata": {
        "id": "kQP3JTyXB7o-",
        "colab_type": "text"
      },
      "source": [
        "#Interpolating Variables Into a String\n",
        "###One simple feature of f-strings you can start using right away is variable interpolation. You can specify a variable name directly within an f-string literal, and Python will replace the name with the corresponding value."
      ]
    },
    {
      "cell_type": "code",
      "metadata": {
        "id": "j3xYRD-PGcmu",
        "colab_type": "code",
        "colab": {
          "base_uri": "https://localhost:8080/",
          "height": 50
        },
        "outputId": "428308cc-295a-438d-b2d1-c4e012f17d01"
      },
      "source": [
        "n=20\n",
        "m=25\n",
        "prod = m*n\n",
        "print(f'The product of {n} and {m} is {prod}')\n",
        "print(\"hell\",n)"
      ],
      "execution_count": 120,
      "outputs": [
        {
          "output_type": "stream",
          "text": [
            "The product of 20 and 25 is 500\n",
            "hell 20\n"
          ],
          "name": "stdout"
        }
      ]
    },
    {
      "cell_type": "markdown",
      "metadata": {
        "id": "lsRhOzYgDJuV",
        "colab_type": "text"
      },
      "source": [
        "#Modifying Strings\n",
        "###In a nutshell, you can’t. Strings are one of the data types Python considers immutable, meaning not able to be changed. In fact, all the data types you have seen so far are immutable. (Python does provide data types that are mutable, as you will soon see.)"
      ]
    },
    {
      "cell_type": "code",
      "metadata": {
        "id": "8Vn73Jn_Cwpo",
        "colab_type": "code",
        "colab": {
          "base_uri": "https://localhost:8080/",
          "height": 162
        },
        "outputId": "fde10c72-56f9-4c45-adf2-dcf6dbe30e70"
      },
      "source": [
        "s[3]='x'"
      ],
      "execution_count": 25,
      "outputs": [
        {
          "output_type": "error",
          "ename": "TypeError",
          "evalue": "ignored",
          "traceback": [
            "\u001b[0;31m---------------------------------------------------------------------------\u001b[0m",
            "\u001b[0;31mTypeError\u001b[0m                                 Traceback (most recent call last)",
            "\u001b[0;32m<ipython-input-25-512e1e3ef74d>\u001b[0m in \u001b[0;36m<module>\u001b[0;34m()\u001b[0m\n\u001b[0;32m----> 1\u001b[0;31m \u001b[0ms\u001b[0m\u001b[0;34m[\u001b[0m\u001b[0;36m3\u001b[0m\u001b[0;34m]\u001b[0m\u001b[0;34m=\u001b[0m\u001b[0;34m'x'\u001b[0m\u001b[0;34m\u001b[0m\u001b[0;34m\u001b[0m\u001b[0m\n\u001b[0m",
            "\u001b[0;31mTypeError\u001b[0m: 'str' object does not support item assignment"
          ]
        }
      ]
    },
    {
      "cell_type": "code",
      "metadata": {
        "id": "fPDvMpzgDypL",
        "colab_type": "code",
        "colab": {
          "base_uri": "https://localhost:8080/",
          "height": 34
        },
        "outputId": "c60554a5-c880-42fa-80d0-efd3cc28a6db"
      },
      "source": [
        "s=\"foobar\"\n",
        "s = s[:3] + 'x' + s[4:]  #changes can be easily made\n",
        "print(s) "
      ],
      "execution_count": 26,
      "outputs": [
        {
          "output_type": "stream",
          "text": [
            "fooxar\n"
          ],
          "name": "stdout"
        }
      ]
    },
    {
      "cell_type": "code",
      "metadata": {
        "id": "2DbCtGtFD-TQ",
        "colab_type": "code",
        "colab": {
          "base_uri": "https://localhost:8080/",
          "height": 34
        },
        "outputId": "2ca05d20-1bc7-46d2-c746-b3c39d4e8df8"
      },
      "source": [
        "s=\"foobar\"\n",
        "s= s.replace('b','x')\n",
        "print(s)"
      ],
      "execution_count": 32,
      "outputs": [
        {
          "output_type": "stream",
          "text": [
            "fooxar\n"
          ],
          "name": "stdout"
        }
      ]
    },
    {
      "cell_type": "markdown",
      "metadata": {
        "id": "KGtGL63-ITdq",
        "colab_type": "text"
      },
      "source": [
        "#String functions\n",
        "\n",
        "###1. s.capitalize() returns a copy of s with the first character converted to uppercase and all other characters converted to lowercase\n",
        "\n",
        "###2. s.lower() returns a copy of s with all alphabetic characters converted to lowercase:\n",
        "\n",
        "###3. s.swapcase() returns a copy of s with uppercase alphabetic characters converted to lowercase and vice versa\n",
        "\n",
        "###4. s.upper() returns a copy of s with all alphabetic characters converted to uppercase:\n",
        "\n",
        "###5. s.count(< sub >) returns the number of non-overlapping occurrences of substring < sub > in s:\n",
        "\n",
        "#The following few are important from NLP's perspective\n",
        "\n",
        "###6. s.partition(<sep>) splits s at the first occurrence of string <sep>. The return value is a three-part tuple consisting of: ### The portion of s preceding <sep>\n",
        "### < sep > itself\n",
        "### The portion of s following <sep>\n",
        "\n",
        "###7. Without arguments, s.rsplit() splits s into substrings delimited by any sequence of whitespace and returns the substrings as a list\n",
        "  \n",
        "###If <sep> is specified, it is used as the delimiter for splitting\n",
        "\n",
        "\n",
        "There are plenty of other functions left for you to explore.\n",
        "\n"
      ]
    },
    {
      "cell_type": "code",
      "metadata": {
        "id": "kOgf0rkGISos",
        "colab_type": "code",
        "colab": {
          "base_uri": "https://localhost:8080/",
          "height": 50
        },
        "outputId": "8971c9d7-c662-4dba-e588-f912cc8fb9b3"
      },
      "source": [
        "s=\"catatatatat\"\n",
        "print(s.count(\"at\"))\n",
        "print(s.rsplit('t'))\n"
      ],
      "execution_count": 121,
      "outputs": [
        {
          "output_type": "stream",
          "text": [
            "5\n",
            "['ca', 'a', 'a', 'a', 'a', '']\n"
          ],
          "name": "stdout"
        }
      ]
    },
    {
      "cell_type": "code",
      "metadata": {
        "id": "KL9_LFwWEUoc",
        "colab_type": "code",
        "colab": {
          "base_uri": "https://localhost:8080/",
          "height": 34
        },
        "outputId": "c6ec4479-9b34-4c3e-fb5c-2390a581e453"
      },
      "source": [
        "'foo.bar'.partition('.')"
      ],
      "execution_count": 1,
      "outputs": [
        {
          "output_type": "execute_result",
          "data": {
            "text/plain": [
              "('foo', '.', 'bar')"
            ]
          },
          "metadata": {
            "tags": []
          },
          "execution_count": 1
        }
      ]
    },
    {
      "cell_type": "code",
      "metadata": {
        "id": "OGZY8QqPgzOD",
        "colab_type": "code",
        "colab": {
          "base_uri": "https://localhost:8080/",
          "height": 34
        },
        "outputId": "429ea7e9-99fb-474b-92a7-500a46e8426f"
      },
      "source": [
        "'foo bar baz qux'.rsplit()"
      ],
      "execution_count": 3,
      "outputs": [
        {
          "output_type": "execute_result",
          "data": {
            "text/plain": [
              "['foo', 'bar', 'baz', 'qux']"
            ]
          },
          "metadata": {
            "tags": []
          },
          "execution_count": 3
        }
      ]
    },
    {
      "cell_type": "code",
      "metadata": {
        "id": "_IO84__khXCs",
        "colab_type": "code",
        "colab": {
          "base_uri": "https://localhost:8080/",
          "height": 34
        },
        "outputId": "4b5e3d03-da32-4d6e-804b-07c01a294b8c"
      },
      "source": [
        "'foo.bar.baz.qux'.rsplit(sep='.')"
      ],
      "execution_count": 4,
      "outputs": [
        {
          "output_type": "execute_result",
          "data": {
            "text/plain": [
              "['foo', 'bar', 'baz', 'qux']"
            ]
          },
          "metadata": {
            "tags": []
          },
          "execution_count": 4
        }
      ]
    },
    {
      "cell_type": "markdown",
      "metadata": {
        "id": "6HGhyXHnhx-H",
        "colab_type": "text"
      },
      "source": [
        "#Lists, Tuples and Dictionaries (Iterables)\n",
        "###Extremely important"
      ]
    },
    {
      "cell_type": "markdown",
      "metadata": {
        "id": "bD-tlbw9iN4X",
        "colab_type": "text"
      },
      "source": [
        "#Python Lists\n",
        "###In short, a list is a collection of arbitrary objects, somewhat akin to an array in many other programming languages but more ###flexible. Lists are defined in Python by enclosing a comma-separated sequence of objects in square brackets ([]), as shown below:"
      ]
    },
    {
      "cell_type": "code",
      "metadata": {
        "id": "bremkx8-hbZw",
        "colab_type": "code",
        "colab": {}
      },
      "source": [
        "a = ['foo', 'bar', 'baz', 'qux'] # a list"
      ],
      "execution_count": 0,
      "outputs": []
    },
    {
      "cell_type": "markdown",
      "metadata": {
        "id": "U22g9p8DiWZ8",
        "colab_type": "text"
      },
      "source": [
        "###The important characteristics of Python lists are as follows:\n",
        "\n",
        "###Lists are ordered.\n",
        "###Lists can contain any arbitrary objects.\n",
        "###List elements can be accessed by index.\n",
        "###Lists can be nested to arbitrary depth.\n",
        "###Lists are mutable.\n",
        "###Lists are dynamic."
      ]
    },
    {
      "cell_type": "markdown",
      "metadata": {
        "id": "8vOVuqAXitj_",
        "colab_type": "text"
      },
      "source": [
        "#Lists Are Ordered\n",
        "###A list is not merely a collection of objects. It is an ordered collection of objects. The order in which you specify the elements when you define a list is an innate characteristic of that list and is maintained for that list’s lifetime. "
      ]
    },
    {
      "cell_type": "code",
      "metadata": {
        "id": "CBHGbDxbiVfk",
        "colab_type": "code",
        "colab": {}
      },
      "source": [
        "a = ['foo', 'bar', 'baz', 'qux']\n",
        "b = ['baz', 'qux', 'bar', 'foo']"
      ],
      "execution_count": 0,
      "outputs": []
    },
    {
      "cell_type": "code",
      "metadata": {
        "id": "59Le-xv_i7Rr",
        "colab_type": "code",
        "colab": {
          "base_uri": "https://localhost:8080/",
          "height": 34
        },
        "outputId": "9ad3719c-0b51-40b4-927a-16ca601997e2"
      },
      "source": [
        "print(a==b)"
      ],
      "execution_count": 7,
      "outputs": [
        {
          "output_type": "stream",
          "text": [
            "False\n"
          ],
          "name": "stdout"
        }
      ]
    },
    {
      "cell_type": "markdown",
      "metadata": {
        "id": "DKLAR6e7jDnm",
        "colab_type": "text"
      },
      "source": [
        "#Lists Can Contain Arbitrary Objects\n"
      ]
    },
    {
      "cell_type": "code",
      "metadata": {
        "id": "izJhQKzbi8aD",
        "colab_type": "code",
        "colab": {
          "base_uri": "https://localhost:8080/",
          "height": 195
        },
        "outputId": "249cc608-b5ce-4bd1-e3ab-317fefb0d0ec"
      },
      "source": [
        "a = [21.42, 'foobar', 3, 4, 'bark', False, 3.14159]\n",
        "print(a.type())\n",
        "#print(type(a))"
      ],
      "execution_count": 39,
      "outputs": [
        {
          "output_type": "error",
          "ename": "AttributeError",
          "evalue": "ignored",
          "traceback": [
            "\u001b[0;31m---------------------------------------------------------------------------\u001b[0m",
            "\u001b[0;31mAttributeError\u001b[0m                            Traceback (most recent call last)",
            "\u001b[0;32m<ipython-input-39-e2ba8b682f6c>\u001b[0m in \u001b[0;36m<module>\u001b[0;34m()\u001b[0m\n\u001b[1;32m      1\u001b[0m \u001b[0ma\u001b[0m \u001b[0;34m=\u001b[0m \u001b[0;34m[\u001b[0m\u001b[0;36m21.42\u001b[0m\u001b[0;34m,\u001b[0m \u001b[0;34m'foobar'\u001b[0m\u001b[0;34m,\u001b[0m \u001b[0;36m3\u001b[0m\u001b[0;34m,\u001b[0m \u001b[0;36m4\u001b[0m\u001b[0;34m,\u001b[0m \u001b[0;34m'bark'\u001b[0m\u001b[0;34m,\u001b[0m \u001b[0;32mFalse\u001b[0m\u001b[0;34m,\u001b[0m \u001b[0;36m3.14159\u001b[0m\u001b[0;34m]\u001b[0m\u001b[0;34m\u001b[0m\u001b[0;34m\u001b[0m\u001b[0m\n\u001b[0;32m----> 2\u001b[0;31m \u001b[0mprint\u001b[0m\u001b[0;34m(\u001b[0m\u001b[0ma\u001b[0m\u001b[0;34m.\u001b[0m\u001b[0mtype\u001b[0m\u001b[0;34m(\u001b[0m\u001b[0;34m)\u001b[0m\u001b[0;34m)\u001b[0m\u001b[0;34m\u001b[0m\u001b[0;34m\u001b[0m\u001b[0m\n\u001b[0m\u001b[1;32m      3\u001b[0m \u001b[0;31m#print(type(a))\u001b[0m\u001b[0;34m\u001b[0m\u001b[0;34m\u001b[0m\u001b[0;34m\u001b[0m\u001b[0m\n",
            "\u001b[0;31mAttributeError\u001b[0m: 'list' object has no attribute 'type'"
          ]
        }
      ]
    },
    {
      "cell_type": "markdown",
      "metadata": {
        "id": "8BGDdLqHjWnm",
        "colab_type": "text"
      },
      "source": [
        "#List Elements Can Be Accessed by Index\n"
      ]
    },
    {
      "cell_type": "code",
      "metadata": {
        "id": "7j2rSE3jjIqk",
        "colab_type": "code",
        "colab": {
          "base_uri": "https://localhost:8080/",
          "height": 50
        },
        "outputId": "fd000543-2b2d-4fae-be4d-c02719093a62"
      },
      "source": [
        "#print(a[0]) #try negative indexing and slicing and stride\n",
        "#try reversing a list just by using negative indexing\n",
        "#try 'in' and 'not in' operators\n",
        "#concatenate two lists\n",
        "#multiply list by some number\n",
        "\n",
        "\n",
        "# min(),max(),len()\n",
        "#basic syntax - min(iterable, *iterables[, key, default])\n",
        "#iterable - sequence (tuple, string), collection (set, dictionary) or an iterator object whose largest element is to be found\n",
        "#*iterables (Optional) - any number of iterables whose largest is to be found\n",
        "#key (Optional) - key function where the iterables are passed and comparison is performed based on its return value\n",
        "#default (Optional) - default value if the given iterable is empty\n",
        "\n",
        "\n",
        "a =['string', 2,'x',5]\n",
        "print(a[::-1])\n",
        "#a= ['foo', 'bar', 'baz', 'qux', 'quux', 'corge']\n",
        "#print(min(a))\n",
        "#print(max(a)) #normal comparison in case of numbers and for strings, alphabetical comparison is done\n",
        "print(a*5)"
      ],
      "execution_count": 126,
      "outputs": [
        {
          "output_type": "stream",
          "text": [
            "[5, 'x', 2, 'string']\n",
            "['string', 2, 'x', 5, 'string', 2, 'x', 5, 'string', 2, 'x', 5, 'string', 2, 'x', 5, 'string', 2, 'x', 5]\n"
          ],
          "name": "stdout"
        }
      ]
    },
    {
      "cell_type": "code",
      "metadata": {
        "id": "SRthq7aujiKO",
        "colab_type": "code",
        "colab": {
          "base_uri": "https://localhost:8080/",
          "height": 50
        },
        "outputId": "ff694eb9-b296-41f6-f79d-2ef24e07fb30"
      },
      "source": [
        "#Example : Find minimum among the given numbers\n",
        "# using min(arg1, arg2, *args)\n",
        "print('Minimum is:', min(1, 3, 2, 5, 4))\n",
        "\n",
        "# using min(iterable)\n",
        "num = [3, 2, 8, 5, 10, 6]\n",
        "print('Minimum is:', min(num))"
      ],
      "execution_count": 15,
      "outputs": [
        {
          "output_type": "stream",
          "text": [
            "Minimum is: 1\n",
            "Minimum is: 2\n"
          ],
          "name": "stdout"
        }
      ]
    },
    {
      "cell_type": "code",
      "metadata": {
        "id": "n_0pUwS3oDyy",
        "colab_type": "code",
        "colab": {
          "base_uri": "https://localhost:8080/",
          "height": 50
        },
        "outputId": "0e1cb4ef-6720-4e36-cbde-a1ba1d9657f9"
      },
      "source": [
        "#Example : Find number whose sum of digits is smallest using key function\n",
        "def sumDigit(num):\n",
        "    sum = 0\n",
        "    while(num):\n",
        "        sum += num % 10\n",
        "        num = int(num / 10)\n",
        "    return sum\n",
        "\n",
        "# using min(arg1, arg2, *args, key)\n",
        "print('Minimum is:', min(100, 321, 267, 59, 40, key=sumDigit))\n",
        "\n",
        "# using min(iterable, key)\n",
        "num = [15, 300, 2700, 821, 52, 10, 6]\n",
        "print('Minimum is:', min(num, key=sumDigit))"
      ],
      "execution_count": 16,
      "outputs": [
        {
          "output_type": "stream",
          "text": [
            "Minimum is: 100\n",
            "Minimum is: 10\n"
          ],
          "name": "stdout"
        }
      ]
    },
    {
      "cell_type": "code",
      "metadata": {
        "id": "hxa1PKrYodMX",
        "colab_type": "code",
        "colab": {
          "base_uri": "https://localhost:8080/",
          "height": 34
        },
        "outputId": "63d5674a-6009-48d1-96c0-b2c3dc13e82b"
      },
      "source": [
        "#Example : Find list with minimum length using key function\n",
        "num = [15, 300, 2700, 821]\n",
        "num1 = [12, 2]\n",
        "num2 = [34, 567, 78]\n",
        "\n",
        "# using min(iterable, *iterables, key)\n",
        "print('Minimum is:', min(num, num1, num2, key=len))"
      ],
      "execution_count": 127,
      "outputs": [
        {
          "output_type": "stream",
          "text": [
            "Minimum is: [12, 2]\n"
          ],
          "name": "stdout"
        }
      ]
    },
    {
      "cell_type": "markdown",
      "metadata": {
        "id": "XADGDN_qo37L",
        "colab_type": "text"
      },
      "source": [
        "#Lists Can Be Nested\n",
        "###You have seen that an element in a list can be any sort of object. That includes another list. A list can contain sublists, which in turn can contain sublists themselves, and so on to arbitrary depth."
      ]
    },
    {
      "cell_type": "code",
      "metadata": {
        "id": "WA1o7S2DpBNK",
        "colab_type": "code",
        "colab": {
          "base_uri": "https://localhost:8080/",
          "height": 50
        },
        "outputId": "ee909598-2285-40d7-f063-f910a1c99d84"
      },
      "source": [
        "x = ['a', ['bb', ['ccc', 'ddd'], 'ee', 'ff'], 'g', ['hh', 'ii'], 'j']\n",
        "print(x[1])\n",
        "print(x[1][0])\n",
        "#try reversing, slicing, negative indexing"
      ],
      "execution_count": 19,
      "outputs": [
        {
          "output_type": "stream",
          "text": [
            "['bb', ['ccc', 'ddd'], 'ee', 'ff']\n",
            "bb\n"
          ],
          "name": "stdout"
        }
      ]
    },
    {
      "cell_type": "markdown",
      "metadata": {
        "id": "5iF5XOJZpyk5",
        "colab_type": "text"
      },
      "source": [
        "#Lists Are Mutable\n",
        "###The list is the first mutable data type you have encountered. Once a list has been created, elements can be added, deleted, shifted, and moved around at will. Python provides a wide range of ways to modify lists."
      ]
    },
    {
      "cell_type": "code",
      "metadata": {
        "id": "eApqnGOTpNuX",
        "colab_type": "code",
        "colab": {
          "base_uri": "https://localhost:8080/",
          "height": 34
        },
        "outputId": "4e18f6d3-ede6-4db6-b21f-012310b7d267"
      },
      "source": [
        "a = ['foo', 'bar', 'baz', 'qux', 'quux', 'corge'] \n",
        "a[2]=10\n",
        "print(a)\n",
        "\n",
        "#A list item can be deleted with the del command:\n",
        "del a[0]\n"
      ],
      "execution_count": 23,
      "outputs": [
        {
          "output_type": "stream",
          "text": [
            "['foo', 'bar', 10, 'qux', 'quux', 'corge']\n"
          ],
          "name": "stdout"
        }
      ]
    },
    {
      "cell_type": "markdown",
      "metadata": {
        "id": "LFklVHuiqiWe",
        "colab_type": "text"
      },
      "source": [
        "#Modifying Multiple List Values\n",
        "###What if you want to change several contiguous elements in a list at one time? Python allows this with slice assignment. The number of elements inserted need not be equal to the number replaced. Python just grows or shrinks the list as needed.\n",
        "###Try changing values through slicing, try similar size and different sized assignments (list length can be changed through that assignment)\n",
        "###You can also insert elements into a list without removing anything. Simply specify a slice of the form [n:n] (a zero-length slice) at the desired index\n",
        "###You can delete multiple elements out of the middle of a list by assigning the appropriate slice to an empty list. You can also use the del statement with the same slice"
      ]
    },
    {
      "cell_type": "code",
      "metadata": {
        "id": "fDRO5RYWT4C3",
        "colab_type": "code",
        "colab": {
          "base_uri": "https://localhost:8080/",
          "height": 50
        },
        "outputId": "254dee08-b046-406a-96da-2bcb75a8f82d"
      },
      "source": [
        "s=[1,2,3,4]\n",
        "s[2:3]=[]\n",
        "print(s)\n",
        "del s[0:2]\n",
        "print(s)"
      ],
      "execution_count": 132,
      "outputs": [
        {
          "output_type": "stream",
          "text": [
            "[1, 2, 4]\n",
            "[4]\n"
          ],
          "name": "stdout"
        }
      ]
    },
    {
      "cell_type": "markdown",
      "metadata": {
        "id": "soh8YVrSrz3Z",
        "colab_type": "text"
      },
      "source": [
        "#Methods that modify lists\n"
      ]
    },
    {
      "cell_type": "code",
      "metadata": {
        "id": "jFh47UbWqG6J",
        "colab_type": "code",
        "colab": {
          "base_uri": "https://localhost:8080/",
          "height": 34
        },
        "outputId": "b2921f2d-75f0-4e33-dbbf-a0fe0920bb7b"
      },
      "source": [
        "a = ['a', 'b']\n",
        "b=['o','p']\n",
        "a=a+b\n",
        "\n",
        "a.append(b)\n",
        "print(a)\n",
        "\n",
        "#Remember that when the + operator is used to concatenate to a list, if the target operand is an iterable, then its elements are broken out and appended to the list individually\n",
        "#The .append() method does not work that way! If an iterable is appended to a list with .append(), it is added as a single object\n",
        "#Try appending and concatening both iterables and non iterables\n",
        "\n"
      ],
      "execution_count": 133,
      "outputs": [
        {
          "output_type": "stream",
          "text": [
            "['a', 'b', 'o', 'p', ['o', 'p']]\n"
          ],
          "name": "stdout"
        }
      ]
    },
    {
      "cell_type": "code",
      "metadata": {
        "id": "7cCnK4pZsDtv",
        "colab_type": "code",
        "colab": {
          "base_uri": "https://localhost:8080/",
          "height": 34
        },
        "outputId": "ff7f4313-161d-4828-fe50-ba923eb38ae0"
      },
      "source": [
        "#a.insert(<index>, <obj>) inserts object <obj> into list a at the specified <index>. Following the method call, a[<index>] is <obj>, and the remaining list elements are pushed to the right\n",
        "a = ['foo', 'bar', 'baz', 'qux', 'quux', 'corge']\n",
        "a.insert(3, 3.14159)\n",
        "print(a)"
      ],
      "execution_count": 26,
      "outputs": [
        {
          "output_type": "stream",
          "text": [
            "['foo', 'bar', 'baz', 3.14159, 'qux', 'quux', 'corge']\n"
          ],
          "name": "stdout"
        }
      ]
    },
    {
      "cell_type": "code",
      "metadata": {
        "id": "zzqMdSlwtlLq",
        "colab_type": "code",
        "colab": {
          "base_uri": "https://localhost:8080/",
          "height": 34
        },
        "outputId": "c52774be-bbed-4d56-f785-751ef4977d9e"
      },
      "source": [
        "#a.remove(<obj>) removes object <obj> from list a. If <obj> isn’t in a, an exception is raised\n",
        "a = ['foo', 'bar', 'baz', 'qux', 'quux', 'corge']\n",
        "a.remove('baz')\n",
        "print(a)"
      ],
      "execution_count": 28,
      "outputs": [
        {
          "output_type": "stream",
          "text": [
            "['foo', 'bar', 'qux', 'quux', 'corge']\n"
          ],
          "name": "stdout"
        }
      ]
    },
    {
      "cell_type": "markdown",
      "metadata": {
        "id": "Es2-uQpPuB2v",
        "colab_type": "text"
      },
      "source": [
        "#Lists Are Dynamic\n",
        "###When items are added to a list, it grows as needed. Similarly, a list shrinks to accommodate the removal of items"
      ]
    },
    {
      "cell_type": "markdown",
      "metadata": {
        "id": "URIo8QGDuPWX",
        "colab_type": "text"
      },
      "source": [
        "##Tuples\n",
        "###Python provides another type that is an ordered collection of objects, called a tuple\n",
        "###Tuples are identical to lists in all respects, except for the following properties:\n",
        "###1. Tuples are defined by enclosing the elements in parentheses (()) instead of square brackets ([]).\n",
        "###2. Tuples are immutable.\n"
      ]
    },
    {
      "cell_type": "code",
      "metadata": {
        "id": "pWyNoJZot09r",
        "colab_type": "code",
        "colab": {}
      },
      "source": [
        " t = ('foo', 'bar', 'baz', 'qux', 'quux', 'corge')\n",
        " #Try accessing elements via indexing\n",
        "#Try reversal"
      ],
      "execution_count": 0,
      "outputs": []
    },
    {
      "cell_type": "markdown",
      "metadata": {
        "id": "O5FJK3LVvMrg",
        "colab_type": "text"
      },
      "source": [
        "##Why use a tuple instead of a list?\n",
        "\n",
        "###Program execution is faster when manipulating a tuple than it is for the equivalent list. (This is probably not going to be noticeable when the list or tuple is small.)\n",
        "\n",
        "###Sometimes you don’t want data to be modified. If the values in the collection are meant to remain constant for the life of the program, using a tuple instead of a list guards against accidental modification.\n",
        "\n",
        "###There is another Python data type that you will encounter shortly called a dictionary, which requires as one of its components a value that is of an immutable type. A tuple can be used for this purpose, whereas a list can’t be."
      ]
    },
    {
      "cell_type": "code",
      "metadata": {
        "id": "1SawtTUfvL-J",
        "colab_type": "code",
        "colab": {
          "base_uri": "https://localhost:8080/",
          "height": 34
        },
        "outputId": "5fe3e396-77a9-496d-a045-b80816ebbef1"
      },
      "source": [
        "t = ('foo', 'bar', 'baz', 'qux') #packing\n",
        "#try unpacking (number of variables must match)\n",
        "#try packing and unpacking as a compound statement (this works without parentheses as well)\n",
        "#Try swapping values in one line\n",
        "a=10\n",
        "b=20\n",
        "a,b,c,d=t\n",
        "print(d)\n",
        "\n",
        "\n",
        "\n",
        "\n"
      ],
      "execution_count": 134,
      "outputs": [
        {
          "output_type": "stream",
          "text": [
            "qux\n"
          ],
          "name": "stdout"
        }
      ]
    },
    {
      "cell_type": "markdown",
      "metadata": {
        "id": "vCvKkkjjw1Z8",
        "colab_type": "text"
      },
      "source": [
        "##Dictionaries\n",
        "###Dictionaries and lists share the following characteristics:\n",
        "\n",
        "###Both are mutable.\n",
        "###Both are dynamic. They can grow and shrink as needed.\n",
        "###Both can be nested. A list can contain another list. A dictionary can contain another dictionary. A dictionary can also contain a list, and vice versa.\n",
        "\n",
        "###Dictionaries differ from lists primarily in how elements are accessed:\n",
        "\n",
        "###List elements are accessed by their position in the list, via indexing.\n",
        "###Dictionary elements are accessed via keys."
      ]
    },
    {
      "cell_type": "markdown",
      "metadata": {
        "id": "v8i4neuFxKAJ",
        "colab_type": "text"
      },
      "source": [
        "##Defining a Dictionary\n",
        "###Dictionaries are Python’s implementation of a data structure that is more generally known as an associative array. A dictionary consists of a collection of key-value pairs. Each key-value pair maps the key to its associated value.\n",
        "\n",
        "###You can define a dictionary by enclosing a comma-separated list of key-value pairs in curly braces ({}). A colon (:) separates each key from its associated value:"
      ]
    },
    {
      "cell_type": "code",
      "metadata": {
        "id": "_Jb2IsIowPQM",
        "colab_type": "code",
        "colab": {}
      },
      "source": [
        "MLB_team = {\n",
        "...     'Colorado' : 'Rockies',\n",
        "...     'Boston'   : 'Red Sox',\n",
        "...     'Minnesota': 'Twins',\n",
        "...     'Milwaukee': 'Brewers',\n",
        "...     'Seattle'  : 'Mariners'\n",
        "... }"
      ],
      "execution_count": 0,
      "outputs": []
    },
    {
      "cell_type": "code",
      "metadata": {
        "id": "mFMQyfw4xmpY",
        "colab_type": "code",
        "colab": {
          "base_uri": "https://localhost:8080/",
          "height": 34
        },
        "outputId": "8907c402-25aa-475e-f67b-b2fe420764a2"
      },
      "source": [
        "print(MLB_team)"
      ],
      "execution_count": 33,
      "outputs": [
        {
          "output_type": "stream",
          "text": [
            "{'Colorado': 'Rockies', 'Boston': 'Red Sox', 'Minnesota': 'Twins', 'Milwaukee': 'Brewers', 'Seattle': 'Mariners'}\n"
          ],
          "name": "stdout"
        }
      ]
    },
    {
      "cell_type": "code",
      "metadata": {
        "id": "xvv1P4vBxpOe",
        "colab_type": "code",
        "colab": {}
      },
      "source": [
        "#You can also construct a dictionary with the built-in dict() function. The argument to dict() should be a sequence of key-value pairs. A list of tuples works well for this:\n",
        "#   d = dict([\n",
        "#    (<key>, <value>),\n",
        "#    (<key>, <value),\n",
        "#      .\n",
        "#      .\n",
        "#      .\n",
        "#    (<key>, <value>)\n",
        "#   ])"
      ],
      "execution_count": 0,
      "outputs": []
    },
    {
      "cell_type": "code",
      "metadata": {
        "id": "D3zzcAXqxwka",
        "colab_type": "code",
        "colab": {}
      },
      "source": [
        "MLB_team = dict((\n",
        "...     ('Colorado', 'Rockies'),\n",
        "...     ('Boston', 'Red Sox'),\n",
        "...     ('Minnesota', 'Twins'),\n",
        "...     ('Milwaukee', 'Brewers'),\n",
        "...     ('Seattle', 'Mariners'),\n",
        "          (2, 'cat')\n",
        "... ))"
      ],
      "execution_count": 0,
      "outputs": []
    },
    {
      "cell_type": "code",
      "metadata": {
        "id": "0Ri_ysNTx-Ti",
        "colab_type": "code",
        "colab": {
          "base_uri": "https://localhost:8080/",
          "height": 34
        },
        "outputId": "5770c23a-9782-45fe-8f1a-fe711b32b545"
      },
      "source": [
        "type(MLB_team)"
      ],
      "execution_count": 40,
      "outputs": [
        {
          "output_type": "execute_result",
          "data": {
            "text/plain": [
              "dict"
            ]
          },
          "metadata": {
            "tags": []
          },
          "execution_count": 40
        }
      ]
    },
    {
      "cell_type": "markdown",
      "metadata": {
        "id": "qcEmD7J7yV8c",
        "colab_type": "text"
      },
      "source": [
        "###The entries in the dictionary display in the order they were defined. But that is irrelevant when it comes to retrieving them. Dictionary elements are not accessed by numerical index\n",
        "###A value is retrieved from a dictionary by specifying its corresponding key in square brackets ([]):"
      ]
    },
    {
      "cell_type": "code",
      "metadata": {
        "id": "hRlZEnMJyOvy",
        "colab_type": "code",
        "colab": {
          "base_uri": "https://localhost:8080/",
          "height": 34
        },
        "outputId": "a5f17598-8f14-4fc9-9430-3c1fec5cbbde"
      },
      "source": [
        "MLB_team[2]\n",
        "MLB_team[2]=10\n",
        "MLB_team['ML']={\"dog\":102,\"pop\":23}\n",
        "#MLB_team['cat']\n",
        "print(MLB_team['ML']['pop'])\n",
        "print(MLB_team)"
      ],
      "execution_count": 142,
      "outputs": [
        {
          "output_type": "stream",
          "text": [
            "23\n"
          ],
          "name": "stdout"
        }
      ]
    },
    {
      "cell_type": "code",
      "metadata": {
        "id": "4ii8h8iAzFUf",
        "colab_type": "code",
        "colab": {}
      },
      "source": [
        "#Adding an entry to an existing dictionary is simply a matter of assigning a new key and value:\n",
        "#If you want to update an entry, you can just assign a new value to an existing key:\n",
        "#To delete an entry, use the del statement, specifying the key to delete:\n",
        "#an object of any immutable type can be used as a dictionary key\n",
        "#try sublisting i.e create a sub dictionary and access it using additional key\n",
        "\n",
        "\n"
      ],
      "execution_count": 0,
      "outputs": []
    },
    {
      "cell_type": "markdown",
      "metadata": {
        "id": "kYHs6PjH2Bik",
        "colab_type": "text"
      },
      "source": [
        "###However, there are a couple restrictions that dictionary keys must abide by.\n",
        "\n",
        "###First, a given key can appear in a dictionary only once. Duplicate keys are not allowed. A dictionary maps each key to a corresponding value, so it doesn’t make sense to map a particular key more than once.\n",
        "\n",
        "###When we assign a value to an already existing dictionary key, it does not add the key a second time, but replaces the existing value:\n",
        "### Similarly, if we specify a key a second time during the initial creation of a dictionary, the second occurrence will override the first\n",
        "\n",
        "###Secondly, a dictionary key must be of a type that is immutable. "
      ]
    },
    {
      "cell_type": "code",
      "metadata": {
        "id": "0ssGeo_Sz8jn",
        "colab_type": "code",
        "colab": {
          "base_uri": "https://localhost:8080/",
          "height": 162
        },
        "outputId": "2484de1f-1ed0-4d4b-fe21-c8c189ed3b6e"
      },
      "source": [
        "#Try assigning a list as key in a dictionary\n",
        "d = {[1, 1]: 'a', [1, 2]: 'b', [2, 1]: 'c', [2, 2]: 'd'}"
      ],
      "execution_count": 49,
      "outputs": [
        {
          "output_type": "error",
          "ename": "TypeError",
          "evalue": "ignored",
          "traceback": [
            "\u001b[0;31m---------------------------------------------------------------------------\u001b[0m",
            "\u001b[0;31mTypeError\u001b[0m                                 Traceback (most recent call last)",
            "\u001b[0;32m<ipython-input-49-9fbdb225f161>\u001b[0m in \u001b[0;36m<module>\u001b[0;34m()\u001b[0m\n\u001b[0;32m----> 1\u001b[0;31m \u001b[0md\u001b[0m \u001b[0;34m=\u001b[0m \u001b[0;34m{\u001b[0m\u001b[0;34m[\u001b[0m\u001b[0;36m1\u001b[0m\u001b[0;34m,\u001b[0m \u001b[0;36m1\u001b[0m\u001b[0;34m]\u001b[0m\u001b[0;34m:\u001b[0m \u001b[0;34m'a'\u001b[0m\u001b[0;34m,\u001b[0m \u001b[0;34m[\u001b[0m\u001b[0;36m1\u001b[0m\u001b[0;34m,\u001b[0m \u001b[0;36m2\u001b[0m\u001b[0;34m]\u001b[0m\u001b[0;34m:\u001b[0m \u001b[0;34m'b'\u001b[0m\u001b[0;34m,\u001b[0m \u001b[0;34m[\u001b[0m\u001b[0;36m2\u001b[0m\u001b[0;34m,\u001b[0m \u001b[0;36m1\u001b[0m\u001b[0;34m]\u001b[0m\u001b[0;34m:\u001b[0m \u001b[0;34m'c'\u001b[0m\u001b[0;34m,\u001b[0m \u001b[0;34m[\u001b[0m\u001b[0;36m2\u001b[0m\u001b[0;34m,\u001b[0m \u001b[0;36m2\u001b[0m\u001b[0;34m]\u001b[0m\u001b[0;34m:\u001b[0m \u001b[0;34m'd'\u001b[0m\u001b[0;34m}\u001b[0m\u001b[0;34m\u001b[0m\u001b[0;34m\u001b[0m\u001b[0m\n\u001b[0m",
            "\u001b[0;31mTypeError\u001b[0m: unhashable type: 'list'"
          ]
        }
      ]
    },
    {
      "cell_type": "markdown",
      "metadata": {
        "id": "fyzeSIYa27kn",
        "colab_type": "text"
      },
      "source": [
        "Technical Note: Why does the error message say “unhashable”?\n",
        "\n",
        "Technically, it is not quite correct to say an object must be immutable to be used as a dictionary key. More precisely, an object must be hashable, which means it can be passed to a hash function. A hash function takes data of arbitrary size and maps it to a relatively simpler fixed-size value called a hash value (or simply hash), which is used for table lookup and comparison.\n",
        "\n",
        "Python’s built-in hash() function returns the hash value for an object which is hashable, and raises an exception for an object which isn’t:\n",
        "\n",
        "All of the built-in immutable types you have learned about so far are hashable, and the mutable container types (lists and dictionaries) are not. So for present purposes, you can think of hashable and immutable as more or less synonymous."
      ]
    },
    {
      "cell_type": "code",
      "metadata": {
        "id": "JLfeJ43X3Ado",
        "colab_type": "code",
        "colab": {}
      },
      "source": [
        "#Built in functions\n",
        "#Try 'in' and 'not in' operators for keys\n",
        "#Try len()\n",
        "#Some new in built functions\n",
        "#d.clear() empties dictionary d of all key-value pairs\n",
        "#d.get(<key>) searches dictionary d for <key> and returns the associated value if it is found. If <key> is not found, it returns None\n",
        "#d.items() returns a list of tuples containing the key-value pairs in d. The first item in each tuple is the key, and the second item is the key’s value\n",
        "#d.keys() returns a list of all keys in d\n",
        "#d.values() returns a list of all values in d\n",
        "\n",
        "\n"
      ],
      "execution_count": 0,
      "outputs": []
    },
    {
      "cell_type": "code",
      "metadata": {
        "id": "d9H9IqVK6pue",
        "colab_type": "code",
        "colab": {
          "base_uri": "https://localhost:8080/",
          "height": 50
        },
        "outputId": "31797624-8466-4cad-e10f-a67c3d1fb1ea"
      },
      "source": [
        "#d.update(<obj>)\n",
        "#If <obj> is a dictionary, d.update(<obj>) merges the entries from <obj> into d. For each key in <obj>:\n",
        "\n",
        "#If the key is not present in d, the key-value pair from <obj> is added to d.\n",
        "#If the key is already present in d, the corresponding value in d for that key is updated to the value from <obj>.\n",
        "d1 = {'a': 10, 'b': 20, 'c': 30}\n",
        "d2 = {'b': 200, 'd': 400}\n",
        "d1.update(d2)\n",
        "print(d1)\n",
        "\n",
        "#Or the values to merge can be specified as a list of keyword arguments:\n",
        "\n",
        "d1 = {'a': 10, 'b': 20, 'c': 30}\n",
        "d1.update(b=200, d=400,e=300)\n",
        "print(d1)"
      ],
      "execution_count": 143,
      "outputs": [
        {
          "output_type": "stream",
          "text": [
            "{'a': 10, 'b': 200, 'c': 30, 'd': 400}\n",
            "{'a': 10, 'b': 200, 'c': 30, 'd': 400}\n"
          ],
          "name": "stdout"
        }
      ]
    },
    {
      "cell_type": "markdown",
      "metadata": {
        "id": "0BkEeiRI9UnN",
        "colab_type": "text"
      },
      "source": [
        "#Conditional statements : The if statement "
      ]
    },
    {
      "cell_type": "code",
      "metadata": {
        "id": "r_wgI1mK7kws",
        "colab_type": "code",
        "colab": {
          "base_uri": "https://localhost:8080/",
          "height": 128
        },
        "outputId": "0cc511fa-c806-4ee1-e77b-11d8aa2091c1"
      },
      "source": [
        "#Syntax\n",
        "if <expr>:\n",
        "    <statement>\n",
        "\n",
        "#In the form shown above:\n",
        "\n",
        "#<expr> is an expression evaluated in Boolean context, as discussed in the section on Logical Operators in the Operators and Expressions in Python tutorial.\n",
        "#<statement> is a valid Python statement, which must be indented\n",
        "#Note that the colon (:) following <expr> is required. Some programming languages require <expr> to be enclosed in parentheses, but Python does not."
      ],
      "execution_count": 56,
      "outputs": [
        {
          "output_type": "error",
          "ename": "SyntaxError",
          "evalue": "ignored",
          "traceback": [
            "\u001b[0;36m  File \u001b[0;32m\"<ipython-input-56-be7f777f9524>\"\u001b[0;36m, line \u001b[0;32m1\u001b[0m\n\u001b[0;31m    if <expr>:\u001b[0m\n\u001b[0m       ^\u001b[0m\n\u001b[0;31mSyntaxError\u001b[0m\u001b[0;31m:\u001b[0m invalid syntax\n"
          ]
        }
      ]
    },
    {
      "cell_type": "code",
      "metadata": {
        "id": "2brlFZM4h42C",
        "colab_type": "code",
        "colab": {
          "base_uri": "https://localhost:8080/",
          "height": 128
        },
        "outputId": "d6bd8a56-55a8-43e6-d6d1-40782cc9eeca"
      },
      "source": [
        "a=10\n",
        "b=20\n",
        "if b>a:\n",
        "  if b==30:\n",
        "    print(\"true\")\n"
      ],
      "execution_count": 148,
      "outputs": [
        {
          "output_type": "error",
          "ename": "IndentationError",
          "evalue": "ignored",
          "traceback": [
            "\u001b[0;36m  File \u001b[0;32m\"<ipython-input-148-14d06d4be9cc>\"\u001b[0;36m, line \u001b[0;32m5\u001b[0m\n\u001b[0;31m    print(\"true\")\u001b[0m\n\u001b[0m        ^\u001b[0m\n\u001b[0;31mIndentationError\u001b[0m\u001b[0;31m:\u001b[0m expected an indented block\n"
          ]
        }
      ]
    },
    {
      "cell_type": "code",
      "metadata": {
        "id": "fTAjwgOW-NQJ",
        "colab_type": "code",
        "colab": {}
      },
      "source": [
        "#Use two variables, check greater than and less than\n",
        "#Provide a string and substring and use 'in' to check if the substring is present in the string or not.\n",
        "#Check if an item is present in a given list using 'in'\n",
        "#use print statement in all the above\n",
        "#try with multiple statements, same indentation\n",
        "#try nested if\n"
      ],
      "execution_count": 0,
      "outputs": []
    },
    {
      "cell_type": "markdown",
      "metadata": {
        "id": "kSZ4R4If_Dz1",
        "colab_type": "text"
      },
      "source": [
        "###Python’s use of indentation is clean, concise, and consistent.\n",
        "###In programming languages that do not use the off-side rule, indentation of code is completely independent of block definition and code function. It’s possible to write code that is indented in a manner that does not actually match how the code executes, thus creating a mistaken impression when a person just glances at it. This sort of mistake is virtually impossible to make in Python.\n",
        "###Use of indentation to define blocks forces you to maintain code formatting standards you probably should be using anyway."
      ]
    },
    {
      "cell_type": "code",
      "metadata": {
        "id": "zF5q8TFu_C_r",
        "colab_type": "code",
        "colab": {}
      },
      "source": [
        "#use else and elif\n",
        "#Python ternary operator\n",
        "\n",
        "#CONDITIONAL EXPRESSIONS \n",
        "#A common use of the conditional expression is to select variable assignment.\n",
        "#<expr1> if <conditional_expr> else <expr2>\n",
        "raining = False\n",
        "print(\"Let's go to the\", 'beach' if not raining else 'library')\n"
      ],
      "execution_count": 0,
      "outputs": []
    },
    {
      "cell_type": "code",
      "metadata": {
        "id": "AAr8ZQY-FOgC",
        "colab_type": "code",
        "colab": {}
      },
      "source": [
        "age = 12\n",
        "s = 'minor' if age < 21 else 'adult'\n",
        "print(s)"
      ],
      "execution_count": 0,
      "outputs": []
    },
    {
      "cell_type": "code",
      "metadata": {
        "id": "8i4gDrnbFXhg",
        "colab_type": "code",
        "colab": {}
      },
      "source": [
        "print('yes' if ('qux' in ['foo', 'bar', 'baz']) else 'no')"
      ],
      "execution_count": 0,
      "outputs": []
    },
    {
      "cell_type": "markdown",
      "metadata": {
        "id": "oT9NRutfGUXD",
        "colab_type": "text"
      },
      "source": [
        "##While loop\n"
      ]
    },
    {
      "cell_type": "code",
      "metadata": {
        "id": "8995_z6RFYWz",
        "colab_type": "code",
        "colab": {}
      },
      "source": [
        "while <expr>:\n",
        "    <statement(s)>"
      ],
      "execution_count": 0,
      "outputs": []
    },
    {
      "cell_type": "code",
      "metadata": {
        "id": "eNnn3J3li1B6",
        "colab_type": "code",
        "colab": {
          "base_uri": "https://localhost:8080/",
          "height": 168
        },
        "outputId": "5c5ac41a-43cc-4c62-93ab-e5ad4e77199d"
      },
      "source": [
        "count=1\n",
        "while(count<10):\n",
        "  print(count)\n",
        "  count=count+1"
      ],
      "execution_count": 149,
      "outputs": [
        {
          "output_type": "stream",
          "text": [
            "1\n",
            "2\n",
            "3\n",
            "4\n",
            "5\n",
            "6\n",
            "7\n",
            "8\n",
            "9\n"
          ],
          "name": "stdout"
        }
      ]
    },
    {
      "cell_type": "code",
      "metadata": {
        "id": "hmfLJUqJGm8P",
        "colab_type": "code",
        "colab": {}
      },
      "source": [
        "#print numbers one to ten using while\n",
        "#Define a list. Print elements one by one 1. reverse order  2. from the beginning\n",
        "#Use pop() method for this. Pop method pops elements from a list just like in case of stacks and it returns/prints the popped value."
      ],
      "execution_count": 0,
      "outputs": []
    },
    {
      "cell_type": "code",
      "metadata": {
        "id": "U7U4gnX3G47E",
        "colab_type": "code",
        "colab": {}
      },
      "source": [
        "a = ['foo', 'bar', 'baz']\n",
        "#while a:\n",
        "  "
      ],
      "execution_count": 0,
      "outputs": []
    },
    {
      "cell_type": "code",
      "metadata": {
        "id": "voAStmSMHDKw",
        "colab_type": "code",
        "colab": {
          "base_uri": "https://localhost:8080/",
          "height": 34
        },
        "outputId": "8be46a7c-a477-420d-aca3-4d91826568ce"
      },
      "source": [
        "print(len(a))"
      ],
      "execution_count": 63,
      "outputs": [
        {
          "output_type": "stream",
          "text": [
            "3\n"
          ],
          "name": "stdout"
        }
      ]
    },
    {
      "cell_type": "code",
      "metadata": {
        "id": "APCrXV1tHfQK",
        "colab_type": "code",
        "colab": {}
      },
      "source": [
        "#Use while and if statements to and break keyword to print numbers upto 10 but break out of the loop when it reaches 5. ( I know it is redundant, but you do what you gotta do!)\n",
        "#Use while, if and continue to print odd numbers upto 10\n",
        "#Use while, if and continue to print alternate elements in a list\n",
        "#Define two lists. Use nested while. Outer loop should pop elements of one list and inner loop should pop the other list's elements. Define the other list within the while loop."
      ],
      "execution_count": 0,
      "outputs": []
    },
    {
      "cell_type": "markdown",
      "metadata": {
        "id": "Ih3LnU5uMcgH",
        "colab_type": "text"
      },
      "source": [
        "#For loop (definite iteration)"
      ]
    },
    {
      "cell_type": "code",
      "metadata": {
        "id": "kHKtj2X_LCsF",
        "colab_type": "code",
        "colab": {
          "base_uri": "https://localhost:8080/",
          "height": 252
        },
        "outputId": "fae30f72-aa95-45d6-e580-43e191cf8032"
      },
      "source": [
        "#basic form\n",
        "#for <var> in <iterable>:\n",
        "#    <statement(s)>\n",
        "a = ['foo', 'bar', 'baz']\n",
        "for i in a:\n",
        "  print(i)\n",
        "  \n",
        "print(list(range(1,10,2)))\n",
        "\n",
        "for i in range(10):\n",
        "  print(i)"
      ],
      "execution_count": 153,
      "outputs": [
        {
          "output_type": "stream",
          "text": [
            "foo\n",
            "bar\n",
            "baz\n",
            "[1, 3, 5, 7, 9]\n",
            "0\n",
            "1\n",
            "2\n",
            "3\n",
            "4\n",
            "5\n",
            "6\n",
            "7\n",
            "8\n",
            "9\n"
          ],
          "name": "stdout"
        }
      ]
    },
    {
      "cell_type": "code",
      "metadata": {
        "id": "iv6GrsmfUbr7",
        "colab_type": "code",
        "colab": {
          "base_uri": "https://localhost:8080/",
          "height": 67
        },
        "outputId": "ad06a626-7ce4-4695-b3b7-c5bb932bf296"
      },
      "source": [
        "d = {'foo': 1, 'bar': 2, 'baz': 3}\n",
        "for k in d:\n",
        "  print(k)"
      ],
      "execution_count": 68,
      "outputs": [
        {
          "output_type": "stream",
          "text": [
            "foo\n",
            "bar\n",
            "baz\n"
          ],
          "name": "stdout"
        }
      ]
    },
    {
      "cell_type": "code",
      "metadata": {
        "id": "sbV74aUXVFNH",
        "colab_type": "code",
        "colab": {
          "base_uri": "https://localhost:8080/",
          "height": 67
        },
        "outputId": "81cac85f-cb51-4168-fcb8-da14208eaeb0"
      },
      "source": [
        "for k in d:\n",
        "  print(d[k])"
      ],
      "execution_count": 71,
      "outputs": [
        {
          "output_type": "stream",
          "text": [
            "foo 1\n",
            "bar 2\n",
            "baz 3\n"
          ],
          "name": "stdout"
        }
      ]
    },
    {
      "cell_type": "code",
      "metadata": {
        "id": "qBTN7wE-VJx-",
        "colab_type": "code",
        "colab": {
          "base_uri": "https://localhost:8080/",
          "height": 50
        },
        "outputId": "f0595d33-156a-420c-a927-59b568e52b2a"
      },
      "source": [
        "#range() function\n",
        "a='6'\n",
        "a=int(a)\n",
        "print(a)\n",
        "type(a)"
      ],
      "execution_count": 157,
      "outputs": [
        {
          "output_type": "stream",
          "text": [
            "6\n"
          ],
          "name": "stdout"
        },
        {
          "output_type": "execute_result",
          "data": {
            "text/plain": [
              "int"
            ]
          },
          "metadata": {
            "tags": []
          },
          "execution_count": 157
        }
      ]
    },
    {
      "cell_type": "code",
      "metadata": {
        "id": "IB6oG4iqkxWY",
        "colab_type": "code",
        "colab": {
          "base_uri": "https://localhost:8080/",
          "height": 522
        },
        "outputId": "ee5fff74-f14b-46d2-f020-c3744e04698b"
      },
      "source": [
        "a=input(\"enter a number\")\n",
        "print(a)"
      ],
      "execution_count": 155,
      "outputs": [
        {
          "output_type": "error",
          "ename": "KeyboardInterrupt",
          "evalue": "ignored",
          "traceback": [
            "\u001b[0;31m---------------------------------------------------------------------------\u001b[0m",
            "\u001b[0;31mKeyboardInterrupt\u001b[0m                         Traceback (most recent call last)",
            "\u001b[0;32m/usr/local/lib/python3.6/dist-packages/ipykernel/kernelbase.py\u001b[0m in \u001b[0;36m_input_request\u001b[0;34m(self, prompt, ident, parent, password)\u001b[0m\n\u001b[1;32m    729\u001b[0m             \u001b[0;32mtry\u001b[0m\u001b[0;34m:\u001b[0m\u001b[0;34m\u001b[0m\u001b[0;34m\u001b[0m\u001b[0m\n\u001b[0;32m--> 730\u001b[0;31m                 \u001b[0mident\u001b[0m\u001b[0;34m,\u001b[0m \u001b[0mreply\u001b[0m \u001b[0;34m=\u001b[0m \u001b[0mself\u001b[0m\u001b[0;34m.\u001b[0m\u001b[0msession\u001b[0m\u001b[0;34m.\u001b[0m\u001b[0mrecv\u001b[0m\u001b[0;34m(\u001b[0m\u001b[0mself\u001b[0m\u001b[0;34m.\u001b[0m\u001b[0mstdin_socket\u001b[0m\u001b[0;34m,\u001b[0m \u001b[0;36m0\u001b[0m\u001b[0;34m)\u001b[0m\u001b[0;34m\u001b[0m\u001b[0;34m\u001b[0m\u001b[0m\n\u001b[0m\u001b[1;32m    731\u001b[0m             \u001b[0;32mexcept\u001b[0m \u001b[0mException\u001b[0m\u001b[0;34m:\u001b[0m\u001b[0;34m\u001b[0m\u001b[0;34m\u001b[0m\u001b[0m\n",
            "\u001b[0;32m/usr/local/lib/python3.6/dist-packages/jupyter_client/session.py\u001b[0m in \u001b[0;36mrecv\u001b[0;34m(self, socket, mode, content, copy)\u001b[0m\n\u001b[1;32m    802\u001b[0m         \u001b[0;32mtry\u001b[0m\u001b[0;34m:\u001b[0m\u001b[0;34m\u001b[0m\u001b[0;34m\u001b[0m\u001b[0m\n\u001b[0;32m--> 803\u001b[0;31m             \u001b[0mmsg_list\u001b[0m \u001b[0;34m=\u001b[0m \u001b[0msocket\u001b[0m\u001b[0;34m.\u001b[0m\u001b[0mrecv_multipart\u001b[0m\u001b[0;34m(\u001b[0m\u001b[0mmode\u001b[0m\u001b[0;34m,\u001b[0m \u001b[0mcopy\u001b[0m\u001b[0;34m=\u001b[0m\u001b[0mcopy\u001b[0m\u001b[0;34m)\u001b[0m\u001b[0;34m\u001b[0m\u001b[0;34m\u001b[0m\u001b[0m\n\u001b[0m\u001b[1;32m    804\u001b[0m         \u001b[0;32mexcept\u001b[0m \u001b[0mzmq\u001b[0m\u001b[0;34m.\u001b[0m\u001b[0mZMQError\u001b[0m \u001b[0;32mas\u001b[0m \u001b[0me\u001b[0m\u001b[0;34m:\u001b[0m\u001b[0;34m\u001b[0m\u001b[0;34m\u001b[0m\u001b[0m\n",
            "\u001b[0;32m/usr/local/lib/python3.6/dist-packages/zmq/sugar/socket.py\u001b[0m in \u001b[0;36mrecv_multipart\u001b[0;34m(self, flags, copy, track)\u001b[0m\n\u001b[1;32m    465\u001b[0m         \"\"\"\n\u001b[0;32m--> 466\u001b[0;31m         \u001b[0mparts\u001b[0m \u001b[0;34m=\u001b[0m \u001b[0;34m[\u001b[0m\u001b[0mself\u001b[0m\u001b[0;34m.\u001b[0m\u001b[0mrecv\u001b[0m\u001b[0;34m(\u001b[0m\u001b[0mflags\u001b[0m\u001b[0;34m,\u001b[0m \u001b[0mcopy\u001b[0m\u001b[0;34m=\u001b[0m\u001b[0mcopy\u001b[0m\u001b[0;34m,\u001b[0m \u001b[0mtrack\u001b[0m\u001b[0;34m=\u001b[0m\u001b[0mtrack\u001b[0m\u001b[0;34m)\u001b[0m\u001b[0;34m]\u001b[0m\u001b[0;34m\u001b[0m\u001b[0;34m\u001b[0m\u001b[0m\n\u001b[0m\u001b[1;32m    467\u001b[0m         \u001b[0;31m# have first part already, only loop while more to receive\u001b[0m\u001b[0;34m\u001b[0m\u001b[0;34m\u001b[0m\u001b[0;34m\u001b[0m\u001b[0m\n",
            "\u001b[0;32mzmq/backend/cython/socket.pyx\u001b[0m in \u001b[0;36mzmq.backend.cython.socket.Socket.recv\u001b[0;34m()\u001b[0m\n",
            "\u001b[0;32mzmq/backend/cython/socket.pyx\u001b[0m in \u001b[0;36mzmq.backend.cython.socket.Socket.recv\u001b[0;34m()\u001b[0m\n",
            "\u001b[0;32mzmq/backend/cython/socket.pyx\u001b[0m in \u001b[0;36mzmq.backend.cython.socket._recv_copy\u001b[0;34m()\u001b[0m\n",
            "\u001b[0;32m/usr/local/lib/python3.6/dist-packages/zmq/backend/cython/checkrc.pxd\u001b[0m in \u001b[0;36mzmq.backend.cython.checkrc._check_rc\u001b[0;34m()\u001b[0m\n",
            "\u001b[0;31mKeyboardInterrupt\u001b[0m: ",
            "\nDuring handling of the above exception, another exception occurred:\n",
            "\u001b[0;31mKeyboardInterrupt\u001b[0m                         Traceback (most recent call last)",
            "\u001b[0;32m<ipython-input-155-575e71418559>\u001b[0m in \u001b[0;36m<module>\u001b[0;34m()\u001b[0m\n\u001b[0;32m----> 1\u001b[0;31m \u001b[0ma\u001b[0m\u001b[0;34m=\u001b[0m\u001b[0minput\u001b[0m\u001b[0;34m(\u001b[0m\u001b[0;34m\"enter a number\"\u001b[0m\u001b[0;34m)\u001b[0m\u001b[0;34m\u001b[0m\u001b[0;34m\u001b[0m\u001b[0m\n\u001b[0m\u001b[1;32m      2\u001b[0m \u001b[0mprint\u001b[0m\u001b[0;34m(\u001b[0m\u001b[0ma\u001b[0m\u001b[0;34m)\u001b[0m\u001b[0;34m\u001b[0m\u001b[0;34m\u001b[0m\u001b[0m\n",
            "\u001b[0;32m/usr/local/lib/python3.6/dist-packages/ipykernel/kernelbase.py\u001b[0m in \u001b[0;36mraw_input\u001b[0;34m(self, prompt)\u001b[0m\n\u001b[1;32m    703\u001b[0m             \u001b[0mself\u001b[0m\u001b[0;34m.\u001b[0m\u001b[0m_parent_ident\u001b[0m\u001b[0;34m,\u001b[0m\u001b[0;34m\u001b[0m\u001b[0;34m\u001b[0m\u001b[0m\n\u001b[1;32m    704\u001b[0m             \u001b[0mself\u001b[0m\u001b[0;34m.\u001b[0m\u001b[0m_parent_header\u001b[0m\u001b[0;34m,\u001b[0m\u001b[0;34m\u001b[0m\u001b[0;34m\u001b[0m\u001b[0m\n\u001b[0;32m--> 705\u001b[0;31m             \u001b[0mpassword\u001b[0m\u001b[0;34m=\u001b[0m\u001b[0;32mFalse\u001b[0m\u001b[0;34m,\u001b[0m\u001b[0;34m\u001b[0m\u001b[0;34m\u001b[0m\u001b[0m\n\u001b[0m\u001b[1;32m    706\u001b[0m         )\n\u001b[1;32m    707\u001b[0m \u001b[0;34m\u001b[0m\u001b[0m\n",
            "\u001b[0;32m/usr/local/lib/python3.6/dist-packages/ipykernel/kernelbase.py\u001b[0m in \u001b[0;36m_input_request\u001b[0;34m(self, prompt, ident, parent, password)\u001b[0m\n\u001b[1;32m    733\u001b[0m             \u001b[0;32mexcept\u001b[0m \u001b[0mKeyboardInterrupt\u001b[0m\u001b[0;34m:\u001b[0m\u001b[0;34m\u001b[0m\u001b[0;34m\u001b[0m\u001b[0m\n\u001b[1;32m    734\u001b[0m                 \u001b[0;31m# re-raise KeyboardInterrupt, to truncate traceback\u001b[0m\u001b[0;34m\u001b[0m\u001b[0;34m\u001b[0m\u001b[0;34m\u001b[0m\u001b[0m\n\u001b[0;32m--> 735\u001b[0;31m                 \u001b[0;32mraise\u001b[0m \u001b[0mKeyboardInterrupt\u001b[0m\u001b[0;34m\u001b[0m\u001b[0;34m\u001b[0m\u001b[0m\n\u001b[0m\u001b[1;32m    736\u001b[0m             \u001b[0;32melse\u001b[0m\u001b[0;34m:\u001b[0m\u001b[0;34m\u001b[0m\u001b[0;34m\u001b[0m\u001b[0m\n\u001b[1;32m    737\u001b[0m                 \u001b[0;32mbreak\u001b[0m\u001b[0;34m\u001b[0m\u001b[0;34m\u001b[0m\u001b[0m\n",
            "\u001b[0;31mKeyboardInterrupt\u001b[0m: "
          ]
        }
      ]
    },
    {
      "cell_type": "markdown",
      "metadata": {
        "id": "UzrBgxus--_n",
        "colab_type": "text"
      },
      "source": [
        "##Accept two int values from the user and return their product. If the product is greater than 1000, then return their sum\n",
        "\n",
        "##Given a range of numbers. Iterate from o^th number to the end number and print the sum of the current number and previous number\n",
        "\n",
        "##Accept string from the user and display only those characters which are present at an even index\n",
        "\n",
        "## Given a string and an int n, remove characters from string starting from zero up to n and return a new string\n",
        "\n",
        "##Given a list of ints, return True if first and last number of a list is same\n",
        "\n",
        "##Reverse a given number and return true if it is the same as the original number"
      ]
    },
    {
      "cell_type": "code",
      "metadata": {
        "id": "DGcx5Dpy_9Gh",
        "colab_type": "code",
        "colab": {
          "base_uri": "https://localhost:8080/",
          "height": 34
        },
        "outputId": "90a5fbbc-5934-4e2c-bc0d-e328c65a9231"
      },
      "source": [
        "h=\"hellololo lo\"\n",
        "h.count('lo')"
      ],
      "execution_count": 105,
      "outputs": [
        {
          "output_type": "execute_result",
          "data": {
            "text/plain": [
              "4"
            ]
          },
          "metadata": {
            "tags": []
          },
          "execution_count": 105
        }
      ]
    },
    {
      "cell_type": "code",
      "metadata": {
        "id": "sHyGZEisAjBy",
        "colab_type": "code",
        "colab": {
          "base_uri": "https://localhost:8080/",
          "height": 34
        },
        "outputId": "ac2899b0-3460-4f54-d329-13fac03c138f"
      },
      "source": [
        "a=1\n",
        "b=1\n",
        "count=0\n",
        "count+= a==b\n",
        "print(count)"
      ],
      "execution_count": 99,
      "outputs": [
        {
          "output_type": "stream",
          "text": [
            "1\n"
          ],
          "name": "stdout"
        }
      ]
    },
    {
      "cell_type": "code",
      "metadata": {
        "id": "PAiPG7jLAw7f",
        "colab_type": "code",
        "colab": {
          "base_uri": "https://localhost:8080/",
          "height": 52
        },
        "outputId": "1c504800-45a7-4960-894c-194966f583eb"
      },
      "source": [
        "print(a==b)\n",
        "c=a==b\n",
        "print(int(c))"
      ],
      "execution_count": 103,
      "outputs": [
        {
          "output_type": "stream",
          "text": [
            "True\n",
            "1\n"
          ],
          "name": "stdout"
        }
      ]
    },
    {
      "cell_type": "code",
      "metadata": {
        "id": "HvaTINdFA-HL",
        "colab_type": "code",
        "colab": {}
      },
      "source": [
        ""
      ],
      "execution_count": 0,
      "outputs": []
    }
  ]
}