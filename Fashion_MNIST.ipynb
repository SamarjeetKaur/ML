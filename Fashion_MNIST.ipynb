{
  "nbformat": 4,
  "nbformat_minor": 0,
  "metadata": {
    "colab": {
      "name": "Fashion MNIST",
      "version": "0.3.2",
      "provenance": [],
      "include_colab_link": true
    },
    "kernelspec": {
      "name": "python3",
      "display_name": "Python 3"
    }
  },
  "cells": [
    {
      "cell_type": "markdown",
      "metadata": {
        "id": "view-in-github",
        "colab_type": "text"
      },
      "source": [
        "<a href=\"https://colab.research.google.com/github/SamarjeetKaur/ML/blob/master/Fashion_MNIST.ipynb\" target=\"_parent\"><img src=\"https://colab.research.google.com/assets/colab-badge.svg\" alt=\"Open In Colab\"/></a>"
      ]
    },
    {
      "cell_type": "code",
      "metadata": {
        "id": "Bj4X2crBCrjQ",
        "colab_type": "code",
        "colab": {}
      },
      "source": [
        "import tensorflow as tf"
      ],
      "execution_count": 0,
      "outputs": []
    },
    {
      "cell_type": "code",
      "metadata": {
        "id": "_80vS2dxCsSl",
        "colab_type": "code",
        "colab": {}
      },
      "source": [
        "import numpy as np\n",
        "import matplotlib.pyplot as plt\n",
        "(x_train,y_train),(x_test,y_test)= tf.keras.datasets.fashion_mnist.load_data()"
      ],
      "execution_count": 0,
      "outputs": []
    },
    {
      "cell_type": "code",
      "metadata": {
        "id": "suy6mmJnCxVq",
        "colab_type": "code",
        "colab": {
          "base_uri": "https://localhost:8080/",
          "height": 34
        },
        "outputId": "fe678c36-e25f-45c8-a491-fd8d0a43ac22"
      },
      "source": [
        "print(\"x_train shape:\" ,x_train.shape , \"y_train shape:\", y_train.shape)"
      ],
      "execution_count": 3,
      "outputs": [
        {
          "output_type": "stream",
          "text": [
            "x_train shape: (60000, 28, 28) y_train shape: (60000,)\n"
          ],
          "name": "stdout"
        }
      ]
    },
    {
      "cell_type": "code",
      "metadata": {
        "id": "ChtJRUaACz4d",
        "colab_type": "code",
        "colab": {}
      },
      "source": [
        "#normalise\n",
        "x_train=x_train.astype('float32')/255\n",
        "x_test=x_test.astype('float32')/255"
      ],
      "execution_count": 0,
      "outputs": []
    },
    {
      "cell_type": "code",
      "metadata": {
        "id": "VrqXWP0qC6JV",
        "colab_type": "code",
        "colab": {}
      },
      "source": [
        "#train and validation split\n",
        "from sklearn.model_selection import train_test_split\n",
        "train_X,valid_X,train_ground,valid_ground = train_test_split(x_train,y_train,test_size=0.2)"
      ],
      "execution_count": 0,
      "outputs": []
    },
    {
      "cell_type": "code",
      "metadata": {
        "id": "tHTbt28BC81N",
        "colab_type": "code",
        "colab": {
          "base_uri": "https://localhost:8080/",
          "height": 34
        },
        "outputId": "5bcd2b6e-6c6a-4080-ecd7-e05bda6b674d"
      },
      "source": [
        "print(train_ground.shape)"
      ],
      "execution_count": 8,
      "outputs": [
        {
          "output_type": "stream",
          "text": [
            "(48000,)\n"
          ],
          "name": "stdout"
        }
      ]
    },
    {
      "cell_type": "code",
      "metadata": {
        "id": "SXRnG1UPC_mu",
        "colab_type": "code",
        "colab": {
          "base_uri": "https://localhost:8080/",
          "height": 574
        },
        "outputId": "9923c97f-673a-440b-c302-dc9158af97e4"
      },
      "source": [
        "model =tf.keras.Sequential()\n",
        "#define input shape\n",
        "model.add(tf.keras.layers.Conv2D(filters=64,kernel_size=2,padding='same',activation='relu',input_shape=(28,28,1)))\n",
        "model.add(tf.keras.layers.MaxPooling2D(pool_size=2))\n",
        "model.add(tf.keras.layers.Dropout(0.3))\n",
        "model.add(tf.keras.layers.Conv2D(filters=32, kernel_size=2, padding='same', activation='relu'))\n",
        "model.add(tf.keras.layers.MaxPooling2D(pool_size=2))\n",
        "model.add(tf.keras.layers.Dropout(0.3))\n",
        "model.add(tf.keras.layers.Flatten())\n",
        "model.add(tf.keras.layers.Dense(256, activation='relu'))\n",
        "model.add(tf.keras.layers.Dropout(0.5))\n",
        "model.add(tf.keras.layers.Dense(10, activation='softmax'))\n",
        "# Take a look at the model summary\n",
        "model.summary()"
      ],
      "execution_count": 9,
      "outputs": [
        {
          "output_type": "stream",
          "text": [
            "WARNING: Logging before flag parsing goes to stderr.\n",
            "W0707 06:10:13.884440 139806177343360 deprecation.py:506] From /usr/local/lib/python3.6/dist-packages/tensorflow/python/ops/init_ops.py:1251: calling VarianceScaling.__init__ (from tensorflow.python.ops.init_ops) with dtype is deprecated and will be removed in a future version.\n",
            "Instructions for updating:\n",
            "Call initializer instance with the dtype argument instead of passing it to the constructor\n"
          ],
          "name": "stderr"
        },
        {
          "output_type": "stream",
          "text": [
            "Model: \"sequential\"\n",
            "_________________________________________________________________\n",
            "Layer (type)                 Output Shape              Param #   \n",
            "=================================================================\n",
            "conv2d (Conv2D)              (None, 28, 28, 64)        320       \n",
            "_________________________________________________________________\n",
            "max_pooling2d (MaxPooling2D) (None, 14, 14, 64)        0         \n",
            "_________________________________________________________________\n",
            "dropout (Dropout)            (None, 14, 14, 64)        0         \n",
            "_________________________________________________________________\n",
            "conv2d_1 (Conv2D)            (None, 14, 14, 32)        8224      \n",
            "_________________________________________________________________\n",
            "max_pooling2d_1 (MaxPooling2 (None, 7, 7, 32)          0         \n",
            "_________________________________________________________________\n",
            "dropout_1 (Dropout)          (None, 7, 7, 32)          0         \n",
            "_________________________________________________________________\n",
            "flatten (Flatten)            (None, 1568)              0         \n",
            "_________________________________________________________________\n",
            "dense (Dense)                (None, 256)               401664    \n",
            "_________________________________________________________________\n",
            "dropout_2 (Dropout)          (None, 256)               0         \n",
            "_________________________________________________________________\n",
            "dense_1 (Dense)              (None, 10)                2570      \n",
            "=================================================================\n",
            "Total params: 412,778\n",
            "Trainable params: 412,778\n",
            "Non-trainable params: 0\n",
            "_________________________________________________________________\n"
          ],
          "name": "stdout"
        }
      ]
    },
    {
      "cell_type": "code",
      "metadata": {
        "id": "h35dmTVRDeh2",
        "colab_type": "code",
        "colab": {
          "base_uri": "https://localhost:8080/",
          "height": 34
        },
        "outputId": "0b9d78a8-6d7b-4b68-9ffb-02e4ab0f6a31"
      },
      "source": [
        "# Reshape input data from (28, 28) to (28, 28, 1)\n",
        "w, h = 28, 28\n",
        "train_X = train_X.reshape(train_X.shape[0], w, h, 1)\n",
        "valid_X = valid_X.reshape(valid_X.shape[0], w, h, 1)\n",
        "x_test = x_test.reshape(x_test.shape[0], w, h, 1)\n",
        "\n",
        "# One-hot encode the labels\n",
        "train_ground = tf.keras.utils.to_categorical(train_ground, 10)\n",
        "valid_ground = tf.keras.utils.to_categorical(valid_ground, 10)\n",
        "y_test = tf.keras.utils.to_categorical(y_test, 10)\n",
        "\n",
        "print(valid_ground.shape)"
      ],
      "execution_count": 10,
      "outputs": [
        {
          "output_type": "stream",
          "text": [
            "(12000, 10)\n"
          ],
          "name": "stdout"
        }
      ]
    },
    {
      "cell_type": "code",
      "metadata": {
        "id": "acdixCy4Dh8q",
        "colab_type": "code",
        "colab": {}
      },
      "source": [
        "model.compile(loss='categorical_crossentropy',optimizer='adam',metrics=['accuracy'])"
      ],
      "execution_count": 0,
      "outputs": []
    },
    {
      "cell_type": "code",
      "metadata": {
        "id": "bjInP9AtDk1B",
        "colab_type": "code",
        "colab": {
          "base_uri": "https://localhost:8080/",
          "height": 722
        },
        "outputId": "66c774f2-400b-4f91-dfc5-84def3a69bfe"
      },
      "source": [
        "from tensorflow.keras.callbacks import ModelCheckpoint\n",
        "\n",
        "checkpointer = ModelCheckpoint(filepath='model.weights.best.hdf5', verbose = 1, save_best_only=True)\n",
        "model.fit(train_X,\n",
        "         train_ground,\n",
        "         batch_size=64,\n",
        "         epochs=10,\n",
        "         validation_data=(valid_X, valid_ground),\n",
        "         callbacks=[checkpointer])"
      ],
      "execution_count": 13,
      "outputs": [
        {
          "output_type": "stream",
          "text": [
            "Train on 48000 samples, validate on 12000 samples\n",
            "Epoch 1/10\n",
            "47936/48000 [============================>.] - ETA: 0s - loss: 0.6284 - acc: 0.7686\n",
            "Epoch 00001: val_loss improved from inf to 0.41234, saving model to model.weights.best.hdf5\n",
            "48000/48000 [==============================] - 67s 1ms/sample - loss: 0.6283 - acc: 0.7686 - val_loss: 0.4123 - val_acc: 0.8568\n",
            "Epoch 2/10\n",
            "47936/48000 [============================>.] - ETA: 0s - loss: 0.4363 - acc: 0.8404\n",
            "Epoch 00002: val_loss improved from 0.41234 to 0.37016, saving model to model.weights.best.hdf5\n",
            "48000/48000 [==============================] - 66s 1ms/sample - loss: 0.4361 - acc: 0.8405 - val_loss: 0.3702 - val_acc: 0.8662\n",
            "Epoch 3/10\n",
            "47936/48000 [============================>.] - ETA: 0s - loss: 0.3917 - acc: 0.8583\n",
            "Epoch 00003: val_loss improved from 0.37016 to 0.32548, saving model to model.weights.best.hdf5\n",
            "48000/48000 [==============================] - 65s 1ms/sample - loss: 0.3916 - acc: 0.8583 - val_loss: 0.3255 - val_acc: 0.8822\n",
            "Epoch 4/10\n",
            "47936/48000 [============================>.] - ETA: 0s - loss: 0.3600 - acc: 0.8664\n",
            "Epoch 00004: val_loss improved from 0.32548 to 0.30635, saving model to model.weights.best.hdf5\n",
            "48000/48000 [==============================] - 65s 1ms/sample - loss: 0.3603 - acc: 0.8663 - val_loss: 0.3064 - val_acc: 0.8888\n",
            "Epoch 5/10\n",
            "47936/48000 [============================>.] - ETA: 0s - loss: 0.3406 - acc: 0.8756\n",
            "Epoch 00005: val_loss improved from 0.30635 to 0.29222, saving model to model.weights.best.hdf5\n",
            "48000/48000 [==============================] - 65s 1ms/sample - loss: 0.3408 - acc: 0.8755 - val_loss: 0.2922 - val_acc: 0.8972\n",
            "Epoch 6/10\n",
            "47936/48000 [============================>.] - ETA: 0s - loss: 0.3301 - acc: 0.8780\n",
            "Epoch 00006: val_loss improved from 0.29222 to 0.27933, saving model to model.weights.best.hdf5\n",
            "48000/48000 [==============================] - 65s 1ms/sample - loss: 0.3301 - acc: 0.8780 - val_loss: 0.2793 - val_acc: 0.9000\n",
            "Epoch 7/10\n",
            "47936/48000 [============================>.] - ETA: 0s - loss: 0.3103 - acc: 0.8858\n",
            "Epoch 00007: val_loss improved from 0.27933 to 0.26510, saving model to model.weights.best.hdf5\n",
            "48000/48000 [==============================] - 65s 1ms/sample - loss: 0.3102 - acc: 0.8859 - val_loss: 0.2651 - val_acc: 0.9040\n",
            "Epoch 8/10\n",
            "47936/48000 [============================>.] - ETA: 0s - loss: 0.3015 - acc: 0.8884\n",
            "Epoch 00008: val_loss did not improve from 0.26510\n",
            "48000/48000 [==============================] - 65s 1ms/sample - loss: 0.3014 - acc: 0.8885 - val_loss: 0.2673 - val_acc: 0.9033\n",
            "Epoch 9/10\n",
            "47936/48000 [============================>.] - ETA: 0s - loss: 0.2872 - acc: 0.8936\n",
            "Epoch 00009: val_loss improved from 0.26510 to 0.25969, saving model to model.weights.best.hdf5\n",
            "48000/48000 [==============================] - 64s 1ms/sample - loss: 0.2872 - acc: 0.8936 - val_loss: 0.2597 - val_acc: 0.9065\n",
            "Epoch 10/10\n",
            "47936/48000 [============================>.] - ETA: 0s - loss: 0.2814 - acc: 0.8962\n",
            "Epoch 00010: val_loss improved from 0.25969 to 0.24350, saving model to model.weights.best.hdf5\n",
            "48000/48000 [==============================] - 65s 1ms/sample - loss: 0.2813 - acc: 0.8961 - val_loss: 0.2435 - val_acc: 0.9100\n"
          ],
          "name": "stdout"
        },
        {
          "output_type": "execute_result",
          "data": {
            "text/plain": [
              "<tensorflow.python.keras.callbacks.History at 0x7f26e375bac8>"
            ]
          },
          "metadata": {
            "tags": []
          },
          "execution_count": 13
        }
      ]
    },
    {
      "cell_type": "code",
      "metadata": {
        "id": "oHsmnHTUDns0",
        "colab_type": "code",
        "colab": {}
      },
      "source": [
        "# Load the weights with the best validation accuracy\n",
        "model.load_weights('model.weights.best.hdf5')"
      ],
      "execution_count": 0,
      "outputs": []
    },
    {
      "cell_type": "code",
      "metadata": {
        "id": "9tPcvaDqKmqY",
        "colab_type": "code",
        "colab": {
          "base_uri": "https://localhost:8080/",
          "height": 50
        },
        "outputId": "cbe98786-7808-4cc4-d163-8868e8f9f07a"
      },
      "source": [
        "# Evaluate the model on test set\n",
        "score = model.evaluate(x_test, y_test, verbose=0)\n",
        "\n",
        "# Print test accuracy\n",
        "print('\\n', 'Test accuracy:', score[1])"
      ],
      "execution_count": 15,
      "outputs": [
        {
          "output_type": "stream",
          "text": [
            "\n",
            " Test accuracy: 0.9029\n"
          ],
          "name": "stdout"
        }
      ]
    },
    {
      "cell_type": "code",
      "metadata": {
        "id": "AP1p9rNZLMMG",
        "colab_type": "code",
        "colab": {}
      },
      "source": [
        "# Define the text labels\n",
        "fashion_mnist_labels = [\"T-shirt/top\",  # index 0\n",
        "                        \"Trouser\",      # index 1\n",
        "                        \"Pullover\",     # index 2 \n",
        "                        \"Dress\",        # index 3 \n",
        "                        \"Coat\",         # index 4\n",
        "                        \"Sandal\",       # index 5\n",
        "                        \"Shirt\",        # index 6 \n",
        "                        \"Sneaker\",      # index 7 \n",
        "                        \"Bag\",          # index 8 \n",
        "                        \"Ankle boot\"]   # index 9"
      ],
      "execution_count": 0,
      "outputs": []
    },
    {
      "cell_type": "code",
      "metadata": {
        "id": "_e5PnwIDK0dY",
        "colab_type": "code",
        "colab": {
          "base_uri": "https://localhost:8080/",
          "height": 485
        },
        "outputId": "580357a1-76fb-41e8-c949-1314b8c68c02"
      },
      "source": [
        "y_hat = model.predict(x_test)\n",
        "\n",
        "# Plot a random sample of 10 test images, their predicted labels and ground truth\n",
        "figure = plt.figure(figsize=(20, 8))\n",
        "for i, index in enumerate(np.random.choice(x_test.shape[0], size=15, replace=False)):\n",
        "    ax = figure.add_subplot(3, 5, i + 1, xticks=[], yticks=[])\n",
        "    # Display each image\n",
        "    ax.imshow(np.squeeze(x_test[index]))\n",
        "    predict_index = np.argmax(y_hat[index])\n",
        "    true_index = np.argmax(y_test[index])\n",
        "    # Set the title for each image\n",
        "    ax.set_title(\"{} ({})\".format(fashion_mnist_labels[predict_index], \n",
        "                                  fashion_mnist_labels[true_index]),\n",
        "                                  color=(\"green\" if predict_index == true_index else \"red\"))"
      ],
      "execution_count": 18,
      "outputs": [
        {
          "output_type": "display_data",
          "data": {
            "image/png": "[encoded data removed]",
            "text/plain": [
              "<Figure size 1440x576 with 15 Axes>"
            ]
          },
          "metadata": {
            "tags": []
          }
        }
      ]
    },
    {
      "cell_type": "code",
      "metadata": {
        "id": "m7m91dRQLApn",
        "colab_type": "code",
        "colab": {}
      },
      "source": [
        ""
      ],
      "execution_count": 0,
      "outputs": []
    }
  ]
}