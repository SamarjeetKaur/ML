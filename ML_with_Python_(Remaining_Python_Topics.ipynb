{
  "nbformat": 4,
  "nbformat_minor": 0,
  "metadata": {
    "colab": {
      "name": "ML with Python (Remaining Python Topics",
      "version": "0.3.2",
      "provenance": []
    },
    "kernelspec": {
      "name": "python3",
      "display_name": "Python 3"
    }
  },
  "cells": [
    {
      "cell_type": "markdown",
      "metadata": {
        "id": "-zKIXlcvbWwS",
        "colab_type": "text"
      },
      "source": [
        "#Functions"
      ]
    },
    {
      "cell_type": "code",
      "metadata": {
        "id": "h-Ju-2EC25KA",
        "colab_type": "code",
        "colab": {}
      },
      "source": [
        "def my_function():\n",
        "    print(\"Hello From My Function!\")"
      ],
      "execution_count": 0,
      "outputs": []
    },
    {
      "cell_type": "code",
      "metadata": {
        "id": "_2JH1PE-27P6",
        "colab_type": "code",
        "outputId": "0c991677-98f3-41a1-de31-a294d8db3f19",
        "colab": {
          "base_uri": "https://localhost:8080/",
          "height": 34
        }
      },
      "source": [
        "my_function()"
      ],
      "execution_count": 0,
      "outputs": [
        {
          "output_type": "stream",
          "text": [
            "Hello From My Function!\n"
          ],
          "name": "stdout"
        }
      ]
    },
    {
      "cell_type": "code",
      "metadata": {
        "id": "_PQ19nen3Dk9",
        "colab_type": "code",
        "colab": {}
      },
      "source": [
        "def my_function_with_args(name ):\n",
        "    print(\"Hello\",name) "
      ],
      "execution_count": 0,
      "outputs": []
    },
    {
      "cell_type": "code",
      "metadata": {
        "id": "tteWKMch3O6X",
        "colab_type": "code",
        "outputId": "b8136d2c-07d1-461d-a3aa-7689dd71d060",
        "colab": {
          "base_uri": "https://localhost:8080/",
          "height": 34
        }
      },
      "source": [
        "my_function_with_args(\"Samar\")"
      ],
      "execution_count": 0,
      "outputs": [
        {
          "output_type": "stream",
          "text": [
            "Hello Samar\n"
          ],
          "name": "stdout"
        }
      ]
    },
    {
      "cell_type": "code",
      "metadata": {
        "id": "i0TS-g9X3d9P",
        "colab_type": "code",
        "colab": {}
      },
      "source": [
        "def sum_two_numbers(a, b):\n",
        "    return a + b"
      ],
      "execution_count": 0,
      "outputs": []
    },
    {
      "cell_type": "markdown",
      "metadata": {
        "id": "d7b7Ieil4HpM",
        "colab_type": "text"
      },
      "source": [
        "#Build a function that takes in 3 words and returns the concatenated version"
      ]
    },
    {
      "cell_type": "code",
      "metadata": {
        "id": "l4Z9vQMa5bWf",
        "colab_type": "code",
        "colab": {}
      },
      "source": [
        ""
      ],
      "execution_count": 0,
      "outputs": []
    },
    {
      "cell_type": "code",
      "metadata": {
        "id": "I5YQKnU55bd7",
        "colab_type": "code",
        "colab": {}
      },
      "source": [
        ""
      ],
      "execution_count": 0,
      "outputs": []
    },
    {
      "cell_type": "code",
      "metadata": {
        "id": "C2XZs8Mv5bn_",
        "colab_type": "code",
        "colab": {}
      },
      "source": [
        ""
      ],
      "execution_count": 0,
      "outputs": []
    },
    {
      "cell_type": "code",
      "metadata": {
        "id": "CF6ifY603ol4",
        "colab_type": "code",
        "colab": {}
      },
      "source": [
        "\n",
        "\n",
        "def concat(word1,word2,word3):\n",
        "  return word1+word2+word3"
      ],
      "execution_count": 0,
      "outputs": []
    },
    {
      "cell_type": "code",
      "metadata": {
        "id": "gihfgJ5B34Hh",
        "colab_type": "code",
        "outputId": "9f1e65c2-6246-48a0-a435-521812cf3a82",
        "colab": {
          "base_uri": "https://localhost:8080/",
          "height": 34
        }
      },
      "source": [
        "concat(\"cat\",\"dog\",\"rat\")"
      ],
      "execution_count": 0,
      "outputs": [
        {
          "output_type": "execute_result",
          "data": {
            "text/plain": [
              "'catdograt'"
            ]
          },
          "metadata": {
            "tags": []
          },
          "execution_count": 12
        }
      ]
    },
    {
      "cell_type": "markdown",
      "metadata": {
        "id": "1VMR7K4pba5o",
        "colab_type": "text"
      },
      "source": [
        "#File handling"
      ]
    },
    {
      "cell_type": "markdown",
      "metadata": {
        "id": "MgxJbQSn5M5U",
        "colab_type": "text"
      },
      "source": [
        "##Python too supports file handling and allows users to handle files i.e., to read and write files, along with many other file handling options, to operate on files. The concept of file handling has stretched over various other languages, but the implementation is either complicated or lengthy, but alike other concepts of Python, this concept here is also easy and short. \n",
        "\n",
        "##Python treats file differently as text or binary and this is important. Each line of code includes a sequence of characters and they form text file. Each line of a file is terminated with a special character, called the EOL or End of Line characters like comma {,} or newline character. It ends the current line and tells the interpreter a new one has begun. Let’s start with Reading and Writing files."
      ]
    },
    {
      "cell_type": "markdown",
      "metadata": {
        "id": "ajQdmq715nb2",
        "colab_type": "text"
      },
      "source": [
        "##We use open () function in Python to open a file in read or write mode. As explained above, open ( ) will return a file object. To return a file object we use open() function along with two arguments, that accepts file name and the mode, whether to read or write. So, the syntax being: open(filename, mode). There are three kinds of mode, that Python provides and how files can be opened:\n",
        "\n",
        "##“ r “, for reading.\n",
        "##“ w “, for writing.\n",
        "##“ a “, for appending.\n",
        "##“ r+ “, for both reading and writing\n"
      ]
    },
    {
      "cell_type": "markdown",
      "metadata": {
        "id": "6XTXgTgs6vc-",
        "colab_type": "text"
      },
      "source": [
        "##One must keep in mind that the mode argument is not mandatory. If not passed, then Python will assume it to be “ r ” by default. Let’s look at this program and try to analyze how the read mode works:"
      ]
    },
    {
      "cell_type": "markdown",
      "metadata": {
        "id": "paLwV2FG_CVU",
        "colab_type": "text"
      },
      "source": [
        "##The open function takes in 2 parameters – one is the filename and the other is the mode. And this is the syntax for the open function.\n",
        "\n",
        "##file_object  = open(“filename”, “mode”) where file_object is the variable to add the file object."
      ]
    },
    {
      "cell_type": "markdown",
      "metadata": {
        "id": "P6EcrolUAczb",
        "colab_type": "text"
      },
      "source": [
        "##In addition, you can specify if the file should be handled as binary or text mode along with the mode as well. You can have the mode as WT so it means that the file is to be opened in the write mode and the file Python is opening is a text file."
      ]
    },
    {
      "cell_type": "code",
      "metadata": {
        "id": "26pxQ33tBHyr",
        "colab_type": "code",
        "outputId": "163d7f7f-b5e4-4a91-f565-c5b3680379bc",
        "colab": {
          "base_uri": "https://localhost:8080/",
          "height": 34
        }
      },
      "source": [
        "import os       #check current working directory before using the open function\n",
        "print(os.getcwd())"
      ],
      "execution_count": 0,
      "outputs": [
        {
          "output_type": "stream",
          "text": [
            "/content\n"
          ],
          "name": "stdout"
        }
      ]
    },
    {
      "cell_type": "code",
      "metadata": {
        "id": "iTEIzNJVFS38",
        "colab_type": "code",
        "colab": {
          "base_uri": "https://localhost:8080/",
          "height": 178
        },
        "outputId": "10fc1b90-c900-43c5-cda1-12799ffebf8c"
      },
      "source": [
        "import os\n",
        "os.chdir(\"C:/\")"
      ],
      "execution_count": 19,
      "outputs": [
        {
          "output_type": "error",
          "ename": "FileNotFoundError",
          "evalue": "ignored",
          "traceback": [
            "\u001b[0;31m---------------------------------------------------------------------------\u001b[0m",
            "\u001b[0;31mFileNotFoundError\u001b[0m                         Traceback (most recent call last)",
            "\u001b[0;32m<ipython-input-19-4dddd62edc34>\u001b[0m in \u001b[0;36m<module>\u001b[0;34m()\u001b[0m\n\u001b[1;32m      1\u001b[0m \u001b[0;32mimport\u001b[0m \u001b[0mos\u001b[0m\u001b[0;34m\u001b[0m\u001b[0;34m\u001b[0m\u001b[0m\n\u001b[0;32m----> 2\u001b[0;31m \u001b[0mos\u001b[0m\u001b[0;34m.\u001b[0m\u001b[0mchdir\u001b[0m\u001b[0;34m(\u001b[0m\u001b[0;34m\"C:/\"\u001b[0m\u001b[0;34m)\u001b[0m\u001b[0;34m\u001b[0m\u001b[0;34m\u001b[0m\u001b[0m\n\u001b[0m",
            "\u001b[0;31mFileNotFoundError\u001b[0m: [Errno 2] No such file or directory: 'C:/'"
          ]
        }
      ]
    },
    {
      "cell_type": "code",
      "metadata": {
        "id": "ECdkoR5r-ug5",
        "colab_type": "code",
        "colab": {
          "base_uri": "https://localhost:8080/",
          "height": 162
        },
        "outputId": "2ddf8dbc-a5be-411b-d93e-0b4261b3fefa"
      },
      "source": [
        "#Opening a file\n",
        "f=open(\"C:/Users/SAMARJEET KAUR/Desktop/\",'r')\n"
      ],
      "execution_count": 16,
      "outputs": [
        {
          "output_type": "error",
          "ename": "FileNotFoundError",
          "evalue": "ignored",
          "traceback": [
            "\u001b[0;31m---------------------------------------------------------------------------\u001b[0m",
            "\u001b[0;31mFileNotFoundError\u001b[0m                         Traceback (most recent call last)",
            "\u001b[0;32m<ipython-input-16-a86c37cab6f6>\u001b[0m in \u001b[0;36m<module>\u001b[0;34m()\u001b[0m\n\u001b[0;32m----> 1\u001b[0;31m \u001b[0mf\u001b[0m\u001b[0;34m=\u001b[0m\u001b[0mopen\u001b[0m\u001b[0;34m(\u001b[0m\u001b[0;34m\"C:/Users/SAMARJEET KAUR/Desktop/\"\u001b[0m\u001b[0;34m,\u001b[0m\u001b[0;34m'r'\u001b[0m\u001b[0;34m)\u001b[0m\u001b[0;34m\u001b[0m\u001b[0;34m\u001b[0m\u001b[0m\n\u001b[0m",
            "\u001b[0;31mFileNotFoundError\u001b[0m: [Errno 2] No such file or directory: 'C:/Users/SAMARJEET KAUR/Desktop/'"
          ]
        }
      ]
    },
    {
      "cell_type": "code",
      "metadata": {
        "id": "sJOCiprBGUyX",
        "colab_type": "code",
        "colab": {
          "base_uri": "https://localhost:8080/",
          "height": 50
        },
        "outputId": "07dfefb5-5e13-4832-8c2d-d4e752fe82db"
      },
      "source": [
        "%cd C:/"
      ],
      "execution_count": 21,
      "outputs": [
        {
          "output_type": "stream",
          "text": [
            "[Errno 2] No such file or directory: 'C:/'\n",
            "/root\n"
          ],
          "name": "stdout"
        }
      ]
    },
    {
      "cell_type": "markdown",
      "metadata": {
        "id": "zyA8x3q0NMxN",
        "colab_type": "text"
      },
      "source": [
        "##Load CSV with Python Standard Library\n",
        "\n"
      ]
    },
    {
      "cell_type": "code",
      "metadata": {
        "id": "My6xQbwuNLhL",
        "colab_type": "code",
        "colab": {}
      },
      "source": [
        ""
      ],
      "execution_count": 0,
      "outputs": []
    },
    {
      "cell_type": "markdown",
      "metadata": {
        "id": "YCLOrYIUfqF_",
        "colab_type": "text"
      },
      "source": [
        "#Python Modules and Packages"
      ]
    },
    {
      "cell_type": "code",
      "metadata": {
        "id": "22cQFw6rbP2L",
        "colab_type": "code",
        "colab": {}
      },
      "source": [
        ""
      ],
      "execution_count": 0,
      "outputs": []
    }
  ]
}